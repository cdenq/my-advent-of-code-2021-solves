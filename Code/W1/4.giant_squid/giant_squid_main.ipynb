{
 "cells": [
  {
   "cell_type": "markdown",
   "metadata": {},
   "source": [
    "# Part 1"
   ]
  },
  {
   "cell_type": "markdown",
   "metadata": {},
   "source": [
    "## Problem Statement"
   ]
  },
  {
   "cell_type": "code",
   "execution_count": 2,
   "metadata": {},
   "outputs": [
    {
     "data": {
      "text/plain": [
       "\"\\n--- Day 4: Giant Squid ---\\nYou're already almost 1.5km (almost a mile) below the surface of the ocean, already so deep that you can't see\\nany sunlight. What you can see, however, is a giant squid that has attached itself to the outside of your submarine.\\n\\nMaybe it wants to play bingo?\\n\\nBingo is played on a set of boards each consisting of a 5x5 grid of numbers. Numbers are chosen at random, and the\\nchosen number is marked on all boards on which it appears. (Numbers may not appear on all boards.) If all numbers\\nin any row or any column of a board are marked, that board wins. (Diagonals don't count.)\\n\\nThe submarine has a bingo subsystem to help passengers (currently, you and the giant squid) pass the time. It\\nautomatically generates a random order in which to draw numbers and a random set of boards (your puzzle input).\\nFor example:\\n\\n7,4,9,5,11,17,23,2,0,14,21,24,10,16,13,6,15,25,12,22,18,20,8,19,3,26,1\\n\\n22 13 17 11  0\\n 8  2 23  4 24\\n21  9 14 16  7\\n 6 10  3 18  5\\n 1 12 20 15 19\\n\\n 3 15  0  2 22\\n 9 18 13 17  5\\n19  8  7 25 23\\n20 11 10 24  4\\n14 21 16 12  6\\n\\n14 21 17 24  4\\n10 16 15  9 19\\n18  8 23 26 20\\n22 11 13  6  5\\n 2  0 12  3  7\\nAfter the first five numbers are drawn (7, 4, 9, 5, and 11), there are no winners, but the boards are marked\\nas follows (shown here adjacent to each other to save space):\\n\\n22 13 17 11  0         3 15  0  2 22        14 21 17 24  4\\n 8  2 23  4 24         9 18 13 17  5        10 16 15  9 19\\n21  9 14 16  7        19  8  7 25 23        18  8 23 26 20\\n 6 10  3 18  5        20 11 10 24  4        22 11 13  6  5\\n 1 12 20 15 19        14 21 16 12  6         2  0 12  3  7\\n\\nAfter the next six numbers are drawn (17, 23, 2, 0, 14, and 21), there are still no winners:\\n\\n22 13 17 11  0         3 15  0  2 22        14 21 17 24  4\\n 8  2 23  4 24         9 18 13 17  5        10 16 15  9 19\\n21  9 14 16  7        19  8  7 25 23        18  8 23 26 20\\n 6 10  3 18  5        20 11 10 24  4        22 11 13  6  5\\n 1 12 20 15 19        14 21 16 12  6         2  0 12  3  7\\n \\nFinally, 24 is drawn:\\n\\n22 13 17 11  0         3 15  0  2 22        14 21 17 24  4\\n 8  2 23  4 24         9 18 13 17  5        10 16 15  9 19\\n21  9 14 16  7        19  8  7 25 23        18  8 23 26 20\\n 6 10  3 18  5        20 11 10 24  4        22 11 13  6  5\\n 1 12 20 15 19        14 21 16 12  6         2  0 12  3  7\\n\\nAt this point, the third board wins because it has at least one complete row or column of marked numbers\\n(in this case, the entire top row is marked: 14 21 17 24 4).\\n\\nThe score of the winning board can now be calculated. Start by finding the sum of all unmarked numbers on\\nthat board; in this case, the sum is 188. Then, multiply that sum by the number that was just called when\\nthe board won, 24, to get the final score, 188 * 24 = 4512.\\n\\nTo guarantee victory against the giant squid, figure out which board will win first. What will your final\\nscore be if you choose that board?\\n\\nTo begin, get your puzzle input.\\n\""
      ]
     },
     "execution_count": 2,
     "metadata": {},
     "output_type": "execute_result"
    }
   ],
   "source": [
    "'''\n",
    "--- Day 4: Giant Squid ---\n",
    "You're already almost 1.5km (almost a mile) below the surface of the ocean, already so deep that you can't see\n",
    "any sunlight. What you can see, however, is a giant squid that has attached itself to the outside of your submarine.\n",
    "\n",
    "Maybe it wants to play bingo?\n",
    "\n",
    "Bingo is played on a set of boards each consisting of a 5x5 grid of numbers. Numbers are chosen at random, and the\n",
    "chosen number is marked on all boards on which it appears. (Numbers may not appear on all boards.) If all numbers\n",
    "in any row or any column of a board are marked, that board wins. (Diagonals don't count.)\n",
    "\n",
    "The submarine has a bingo subsystem to help passengers (currently, you and the giant squid) pass the time. It\n",
    "automatically generates a random order in which to draw numbers and a random set of boards (your puzzle input).\n",
    "For example:\n",
    "\n",
    "7,4,9,5,11,17,23,2,0,14,21,24,10,16,13,6,15,25,12,22,18,20,8,19,3,26,1\n",
    "\n",
    "22 13 17 11  0\n",
    " 8  2 23  4 24\n",
    "21  9 14 16  7\n",
    " 6 10  3 18  5\n",
    " 1 12 20 15 19\n",
    "\n",
    " 3 15  0  2 22\n",
    " 9 18 13 17  5\n",
    "19  8  7 25 23\n",
    "20 11 10 24  4\n",
    "14 21 16 12  6\n",
    "\n",
    "14 21 17 24  4\n",
    "10 16 15  9 19\n",
    "18  8 23 26 20\n",
    "22 11 13  6  5\n",
    " 2  0 12  3  7\n",
    "After the first five numbers are drawn (7, 4, 9, 5, and 11), there are no winners, but the boards are marked\n",
    "as follows (shown here adjacent to each other to save space):\n",
    "\n",
    "22 13 17 11  0         3 15  0  2 22        14 21 17 24  4\n",
    " 8  2 23  4 24         9 18 13 17  5        10 16 15  9 19\n",
    "21  9 14 16  7        19  8  7 25 23        18  8 23 26 20\n",
    " 6 10  3 18  5        20 11 10 24  4        22 11 13  6  5\n",
    " 1 12 20 15 19        14 21 16 12  6         2  0 12  3  7\n",
    "\n",
    "After the next six numbers are drawn (17, 23, 2, 0, 14, and 21), there are still no winners:\n",
    "\n",
    "22 13 17 11  0         3 15  0  2 22        14 21 17 24  4\n",
    " 8  2 23  4 24         9 18 13 17  5        10 16 15  9 19\n",
    "21  9 14 16  7        19  8  7 25 23        18  8 23 26 20\n",
    " 6 10  3 18  5        20 11 10 24  4        22 11 13  6  5\n",
    " 1 12 20 15 19        14 21 16 12  6         2  0 12  3  7\n",
    " \n",
    "Finally, 24 is drawn:\n",
    "\n",
    "22 13 17 11  0         3 15  0  2 22        14 21 17 24  4\n",
    " 8  2 23  4 24         9 18 13 17  5        10 16 15  9 19\n",
    "21  9 14 16  7        19  8  7 25 23        18  8 23 26 20\n",
    " 6 10  3 18  5        20 11 10 24  4        22 11 13  6  5\n",
    " 1 12 20 15 19        14 21 16 12  6         2  0 12  3  7\n",
    "\n",
    "At this point, the third board wins because it has at least one complete row or column of marked numbers\n",
    "(in this case, the entire top row is marked: 14 21 17 24 4).\n",
    "\n",
    "The score of the winning board can now be calculated. Start by finding the sum of all unmarked numbers on\n",
    "that board; in this case, the sum is 188. Then, multiply that sum by the number that was just called when\n",
    "the board won, 24, to get the final score, 188 * 24 = 4512.\n",
    "\n",
    "To guarantee victory against the giant squid, figure out which board will win first. What will your final\n",
    "score be if you choose that board?\n",
    "\n",
    "To begin, get your puzzle input.\n",
    "'''"
   ]
  },
  {
   "cell_type": "markdown",
   "metadata": {},
   "source": [
    "### Data Setup"
   ]
  },
  {
   "cell_type": "code",
   "execution_count": 3,
   "metadata": {},
   "outputs": [],
   "source": [
    "#import data and parse it as such:\n",
    "#if first row, parse so nums are in \"bingo_nums\" list\n",
    "#if 2nd row, skip\n",
    "#for every subsequent row, if its not an empty row (row w only 1 null value), populate a list of lists called board\n",
    "#if reaches an empty row, then put board into another list called boards_ls and reset\n",
    "#this will create a mega-list of boards, with each board being a list of board_rows, and each board_row being a sequence of 5 nums\n",
    "boards_ls, board = [], []\n",
    "with open('puzzle_input.txt', 'r') as input_data:\n",
    "    for line_num, line in enumerate(input_data):\n",
    "        if line_num == 0:\n",
    "            bingo_nums = list(map(int, line.split(',')))\n",
    "        elif line_num == 1:\n",
    "            continue\n",
    "        else:\n",
    "            line = line.strip().split(' ')\n",
    "            if len(line) < 2: #if empty line, since checks for ['']\n",
    "                boards_ls.append(board)\n",
    "                board = [] #reset board\n",
    "            else:\n",
    "                board_row = []\n",
    "                for num in line:\n",
    "                    if (num != ''):\n",
    "                        board_row.append(int(num))\n",
    "                board.append(board_row)\n",
    "    boards_ls.append(board)"
   ]
  },
  {
   "cell_type": "code",
   "execution_count": 4,
   "metadata": {},
   "outputs": [],
   "source": [
    "# print(bingo_nums)\n",
    "# print(boards_ls)"
   ]
  },
  {
   "cell_type": "code",
   "execution_count": 5,
   "metadata": {},
   "outputs": [],
   "source": [
    "#adding this puzzle name to var for .csv export\n",
    "puzzle_name = 'Day 4: Giant Squid'"
   ]
  },
  {
   "cell_type": "markdown",
   "metadata": {},
   "source": [
    "## Strategy and Solution"
   ]
  },
  {
   "cell_type": "markdown",
   "metadata": {},
   "source": [
    "### Brute Force"
   ]
  },
  {
   "cell_type": "code",
   "execution_count": 6,
   "metadata": {},
   "outputs": [
    {
     "data": {
      "text/plain": [
       "\"\\niterate through the bingo_nums. for every bingo num, loop through every board_row in every board in the board_ls. if there is a match, replace that\\nnum with an X.\\n\\nonce done with replacing all the matches with X's, loop through every board_row in every board in the board_ls to check if there is a row or column that\\nis full of Xs.\\n\\nif found, then we can calculate the sum from that board\\n\""
      ]
     },
     "execution_count": 6,
     "metadata": {},
     "output_type": "execute_result"
    }
   ],
   "source": [
    "'''\n",
    "iterate through the bingo_nums. for every bingo num, loop through every board_row in every board in the board_ls. if there is a match, replace that\n",
    "num with an X.\n",
    "\n",
    "once done with replacing all the matches with X's, loop through every board_row in every board in the board_ls to check if there is a row or column that\n",
    "is full of Xs.\n",
    "\n",
    "if found, then we can calculate the sum from that board\n",
    "'''"
   ]
  },
  {
   "cell_type": "markdown",
   "metadata": {},
   "source": [
    "### Faster Method"
   ]
  },
  {
   "cell_type": "code",
   "execution_count": 7,
   "metadata": {},
   "outputs": [
    {
     "data": {
      "text/plain": [
       "'\\nthere are a number optimizations that can be made on the brute force method.\\n\\nfirstly, given a n x n matrix for the board, we can expand the matrix to a n+1 x n+1 and put a 0 in those spots. this will be explained later\\n\\nsecondly, rather than using an X, we can replace the values in the boards that match the called bingo nums with a -1.\\nwhenever we do find a matching num and replace it with -1, we can immediately calculate the sum of the row and column that our matching num\\nis in. additionally, we can break out to the topmost for-loop because each bingo board will only have 1 value once.\\n\\nEG) given a sample 3x3 board\\n1 2 3\\n4 5 6\\n7 8 9\\n\\nwe can expand it to a n+1 x n+1 matrix.\\n1 2 3 0\\n4 5 6 0\\n7 8 9 0\\n0 0 0 0\\n\\nbingo num 3 is called so...\\n1 2 -1 0\\n4 5 6 0\\n7 8 9 0\\n0 0 0 0\\n\\nthen we calclate the sum of all the nums in corresponding row (1+2+(-1) = 2) and column ((-1)+6+9 = 14)\\nwe can then save these sums in the 0 spots in the extra row and column we added:\\n1 2 -1 2\\n4 5 6 0\\n7 8 9 0\\n0 0 14 0\\n\\novertime as more and more bingo nums are called, we will continually update the  row and leftmost column of 0s in the appropriate sum\\n\\nbecause we are replacing the called bingo nums in our boards with a -1, any row or column that has been fully matched will have a sum of\\n-3 in exmaple above (or a sum of -5 in our problem statement)\\n\\nthis way, whenver we want to check if any board has reached bingo, all we need to do is check if -5 is in either the bottom row or leftmost column.\\n\\nall summed up, our steps would be as follow:\\nexpand every bingo board to n+1 x n+1, assigning the new valuese with 0s\\nfor every bingo num,\\nif a num in a board_row in a board matches bingo num, replace with -1\\nthen sum the row and column of that -1, updating the corresponding value in the bottom most row and leftmost column\\nthen check if a -5 exists in either the row or column sum of that called number\\nif so, return the sum of all nums that are not -1\\n'"
      ]
     },
     "execution_count": 7,
     "metadata": {},
     "output_type": "execute_result"
    }
   ],
   "source": [
    "'''\n",
    "there are a number optimizations that can be made on the brute force method.\n",
    "\n",
    "firstly, given a n x n matrix for the board, we can expand the matrix to a n+1 x n+1 and put a 0 in those spots. this will be explained later\n",
    "\n",
    "secondly, rather than using an X, we can replace the values in the boards that match the called bingo nums with a -1.\n",
    "whenever we do find a matching num and replace it with -1, we can immediately calculate the sum of the row and column that our matching num\n",
    "is in. additionally, we can break out to the topmost for-loop because each bingo board will only have 1 value once.\n",
    "\n",
    "EG) given a sample 3x3 board\n",
    "1 2 3\n",
    "4 5 6\n",
    "7 8 9\n",
    "\n",
    "we can expand it to a n+1 x n+1 matrix.\n",
    "1 2 3 0\n",
    "4 5 6 0\n",
    "7 8 9 0\n",
    "0 0 0 0\n",
    "\n",
    "bingo num 3 is called so...\n",
    "1 2 -1 0\n",
    "4 5 6 0\n",
    "7 8 9 0\n",
    "0 0 0 0\n",
    "\n",
    "then we calclate the sum of all the nums in corresponding row (1+2+(-1) = 2) and column ((-1)+6+9 = 14)\n",
    "we can then save these sums in the 0 spots in the extra row and column we added:\n",
    "1 2 -1 2\n",
    "4 5 6 0\n",
    "7 8 9 0\n",
    "0 0 14 0\n",
    "\n",
    "overtime as more and more bingo nums are called, we will continually update the  row and leftmost column of 0s in the appropriate sum\n",
    "\n",
    "because we are replacing the called bingo nums in our boards with a -1, any row or column that has been fully matched will have a sum of\n",
    "-3 in exmaple above (or a sum of -5 in our problem statement)\n",
    "\n",
    "this way, whenver we want to check if any board has reached bingo, all we need to do is check if -5 is in either the bottom row or leftmost column.\n",
    "\n",
    "all summed up, our steps would be as follow:\n",
    "expand every bingo board to n+1 x n+1, assigning the new valuese with 0s\n",
    "for every bingo num,\n",
    "if a num in a board_row in a board matches bingo num, replace with -1\n",
    "then sum the row and column of that -1, updating the corresponding value in the bottom most row and leftmost column\n",
    "then check if a -5 exists in either the row or column sum of that called number\n",
    "if so, return the sum of all nums that are not -1\n",
    "'''"
   ]
  },
  {
   "cell_type": "code",
   "execution_count": 8,
   "metadata": {},
   "outputs": [],
   "source": [
    "#changing the input list from n x n boards to n+1 x n+1 boards\n",
    "zero_row = [0] * (len(boards_ls[0][0]) + 1)\n",
    "for board in boards_ls:\n",
    "    for board_row in board:\n",
    "        board_row.append(0)\n",
    "    board.append(zero_row)"
   ]
  },
  {
   "cell_type": "code",
   "execution_count": 9,
   "metadata": {},
   "outputs": [],
   "source": [
    "# print(boards_ls)"
   ]
  },
  {
   "cell_type": "code",
   "execution_count": 10,
   "metadata": {},
   "outputs": [],
   "source": [
    "def solution_p1(bingo_nums, boards_ls):\n",
    "    go_next_board = False\n",
    "\n",
    "    for bingo_num in bingo_nums:\n",
    "        #checking matches on every bingo board\n",
    "        for board_index, board in enumerate(boards_ls):\n",
    "            go_next_board = False\n",
    "            for i in range(len(board) - 1): #checking only the n rows, skipping n+1th row\n",
    "                for j in range(len(board[i]) - 1): #checking only first n nums, skipping n+1th num, board[i] = board_row\n",
    "                    if board[i][j] == bingo_num: #board[i][j] = row_num\n",
    "                        board[i][j] = -1 #replace the matching num with -1 \n",
    "                        board[i][-1] = sum(board[i]) #update the last value in the board_row with the sum of the row\n",
    "                        board[-1][j] = sum([board[r][j] for r in range(len(board) - 1)]) #update the corresponding value of the last row of this board w the sum of the column\n",
    "                        #if bingo is found...               \n",
    "                        if (board[i][-1] == -5) | (board[-1][j] == -5): \n",
    "                            output_sum = 0\n",
    "                            for a in range(len(board) - 1):\n",
    "                                for b in range(len(board[0]) - 1):\n",
    "                                    if board[a][b] != -1:\n",
    "                                        output_sum += board[a][b]\n",
    "                            return output_sum * board_index\n",
    "\n",
    "                        #rsegardless of bingo being found, a matching num was found so stop checking this row + this board\n",
    "                        go_next_board = True\n",
    "                        break\n",
    "                if go_next_board == True:\n",
    "                    break\n",
    "    return print(\"No bingo found.\")"
   ]
  },
  {
   "cell_type": "code",
   "execution_count": 11,
   "metadata": {},
   "outputs": [
    {
     "name": "stdout",
     "output_type": "stream",
     "text": [
      "66780\n"
     ]
    }
   ],
   "source": [
    "p1_answer = solution_p1(bingo_nums, boards_ls)\n",
    "print(p1_answer)"
   ]
  },
  {
   "cell_type": "code",
   "execution_count": 12,
   "metadata": {},
   "outputs": [
    {
     "ename": "TypeError",
     "evalue": "object of type 'int' has no len()",
     "output_type": "error",
     "traceback": [
      "\u001b[1;31m---------------------------------------------------------------------------\u001b[0m",
      "\u001b[1;31mTypeError\u001b[0m                                 Traceback (most recent call last)",
      "\u001b[1;32mC:\\Users\\CHRISM~1\\AppData\\Local\\Temp/ipykernel_21872/2464749229.py\u001b[0m in \u001b[0;36m<module>\u001b[1;34m\u001b[0m\n\u001b[0;32m      1\u001b[0m \u001b[1;31m#board 60, score 25023\u001b[0m\u001b[1;33m\u001b[0m\u001b[1;33m\u001b[0m\u001b[1;33m\u001b[0m\u001b[0m\n\u001b[1;32m----> 2\u001b[1;33m \u001b[1;32mfor\u001b[0m \u001b[0mi\u001b[0m \u001b[1;32min\u001b[0m \u001b[0mrange\u001b[0m\u001b[1;33m(\u001b[0m\u001b[0mlen\u001b[0m\u001b[1;33m(\u001b[0m\u001b[1;36m5\u001b[0m\u001b[1;33m)\u001b[0m\u001b[1;33m)\u001b[0m\u001b[1;33m:\u001b[0m\u001b[1;33m\u001b[0m\u001b[1;33m\u001b[0m\u001b[0m\n\u001b[0m\u001b[0;32m      3\u001b[0m     \u001b[0mprint\u001b[0m\u001b[1;33m(\u001b[0m\u001b[0mi\u001b[0m\u001b[1;33m)\u001b[0m\u001b[1;33m\u001b[0m\u001b[1;33m\u001b[0m\u001b[0m\n",
      "\u001b[1;31mTypeError\u001b[0m: object of type 'int' has no len()"
     ]
    }
   ],
   "source": [
    "#board 60, score 25023\n",
    "for i in range(len(5)):\n",
    "    print(i)"
   ]
  },
  {
   "cell_type": "markdown",
   "metadata": {},
   "source": [
    "# Part 2"
   ]
  },
  {
   "cell_type": "markdown",
   "metadata": {},
   "source": [
    "## Problem Statement"
   ]
  },
  {
   "cell_type": "code",
   "execution_count": null,
   "metadata": {},
   "outputs": [],
   "source": [
    "'''\n",
    "--- Part Two ---\n",
    "On the other hand, it might be wise to try a different strategy: let the giant squid win.\n",
    "\n",
    "You aren't sure how many bingo boards a giant squid could play at once, so rather than waste time counting its arms, the safe thing to\n",
    "do is to figure out which board will win last and choose that one. That way, no matter which boards it picks, it will win for sure.\n",
    "\n",
    "In the above example, the second board is the last to win, which happens after 13 is eventually called and its middle column is\n",
    "completely marked. If you were to keep playing until this point, the second board would have a sum of unmarked numbers equal to\n",
    "148 for a final score of 148 * 13 = 1924.\n",
    "\n",
    "Figure out which board will win last. Once it wins, what would its final score be?\n",
    "'''"
   ]
  },
  {
   "cell_type": "markdown",
   "metadata": {},
   "source": [
    "## Strategy and Solution"
   ]
  },
  {
   "cell_type": "markdown",
   "metadata": {},
   "source": [
    "### Brute Force"
   ]
  },
  {
   "cell_type": "code",
   "execution_count": null,
   "metadata": {},
   "outputs": [],
   "source": [
    "'''\n",
    "\n",
    "'''"
   ]
  },
  {
   "cell_type": "code",
   "execution_count": null,
   "metadata": {},
   "outputs": [],
   "source": [
    "def brute_solution_p2():\n",
    "    return"
   ]
  },
  {
   "cell_type": "code",
   "execution_count": null,
   "metadata": {},
   "outputs": [],
   "source": [
    "p2_answer = brute_solution_p2(input_list)\n",
    "print(p2_answer)"
   ]
  },
  {
   "cell_type": "markdown",
   "metadata": {},
   "source": [
    "### Faster Method"
   ]
  },
  {
   "cell_type": "code",
   "execution_count": null,
   "metadata": {},
   "outputs": [],
   "source": [
    "'''\n",
    "\n",
    "'''"
   ]
  },
  {
   "cell_type": "code",
   "execution_count": null,
   "metadata": {},
   "outputs": [],
   "source": [
    "def solution_p2():\n",
    "    return"
   ]
  },
  {
   "cell_type": "code",
   "execution_count": null,
   "metadata": {},
   "outputs": [],
   "source": [
    "p2_answer = solution_p2(input_list)\n",
    "print(p2_answer)"
   ]
  },
  {
   "cell_type": "markdown",
   "metadata": {},
   "source": [
    "# Export"
   ]
  },
  {
   "cell_type": "code",
   "execution_count": null,
   "metadata": {},
   "outputs": [],
   "source": [
    "#board 60, score 25023\n",
    "#board 21, score 2634"
   ]
  },
  {
   "cell_type": "code",
   "execution_count": null,
   "metadata": {},
   "outputs": [],
   "source": [
    "# import csv\n",
    "# input_row = [puzzle_name, p1_answer, p2_answer]\n",
    "# with open('../../../submission_answers.csv', 'a', newline='') as new_row:  \n",
    "#     writer_object = csv.writer(new_row)\n",
    "#     writer_object.writerow(input_row)"
   ]
  }
 ],
 "metadata": {
  "interpreter": {
   "hash": "bc3210eb0411503d9a54e82308439f2538c49d86b5a7c00e1ae895fbe28c5986"
  },
  "kernelspec": {
   "display_name": "Python 3.8.12 ('PythonData')",
   "language": "python",
   "name": "python3"
  },
  "language_info": {
   "codemirror_mode": {
    "name": "ipython",
    "version": 3
   },
   "file_extension": ".py",
   "mimetype": "text/x-python",
   "name": "python",
   "nbconvert_exporter": "python",
   "pygments_lexer": "ipython3",
   "version": "3.8.12"
  },
  "orig_nbformat": 4
 },
 "nbformat": 4,
 "nbformat_minor": 2
}
