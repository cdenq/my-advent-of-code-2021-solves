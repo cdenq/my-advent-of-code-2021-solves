{
 "cells": [
  {
   "cell_type": "markdown",
   "metadata": {},
   "source": [
    "# Part 1"
   ]
  },
  {
   "cell_type": "markdown",
   "metadata": {},
   "source": [
    "## Problem Statement"
   ]
  },
  {
   "cell_type": "code",
   "execution_count": null,
   "metadata": {},
   "outputs": [],
   "source": [
    "'''\n",
    "--- Day 9: Smoke Basin ---\n",
    "These caves seem to be lava tubes. Parts are even still volcanically active; small hydrothermal vents release smoke\n",
    "into the caves that slowly settles like rain.\n",
    "\n",
    "If you can model how the smoke flows through the caves, you might be able to avoid it and be that much safer. The\n",
    "submarine generates a heightmap of the floor of the nearby caves for you (your puzzle input).\n",
    "\n",
    "Smoke flows to the lowest point of the area it's in. For example, consider the following heightmap:\n",
    "\n",
    "2199943210\n",
    "3987894921\n",
    "9856789892\n",
    "8767896789\n",
    "9899965678\n",
    "Each number corresponds to the height of a particular location, where 9 is the highest and 0 is the lowest a location can be.\n",
    "\n",
    "Your first goal is to find the low points - the locations that are lower than any of its adjacent locations. Most locations\n",
    "have four adjacent locations (up, down, left, and right); locations on the edge or corner of the map have three or two adjacent\n",
    "locations, respectively. (Diagonal locations do not count as adjacent.)\n",
    "\n",
    "In the above example, there are four low points, all highlighted: two are in the first row (a 1 and a 0), one is in the third row\n",
    "(a 5), and one is in the bottom row (also a 5). All other locations on the heightmap have some lower adjacent location, and so are\n",
    "not low points.\n",
    "\n",
    "The risk level of a low point is 1 plus its height. In the above example, the risk levels of the low points are 2, 1, 6, and 6. The\n",
    "sum of the risk levels of all low points in the heightmap is therefore 15.\n",
    "\n",
    "Find all of the low points on your heightmap. What is the sum of the risk levels of all low points on your heightmap?\n",
    "\n",
    "To begin, get your puzzle input.\n",
    "'''"
   ]
  },
  {
   "cell_type": "markdown",
   "metadata": {},
   "source": [
    "### Data Setup"
   ]
  },
  {
   "cell_type": "code",
   "execution_count": null,
   "metadata": {},
   "outputs": [],
   "source": [
    "#importing data from puzzle input\n",
    "with open('puzzle_input.txt', 'r') as input_data:\n",
    "    input_list = [int(line.strip()) for line in input_data]"
   ]
  },
  {
   "cell_type": "code",
   "execution_count": null,
   "metadata": {},
   "outputs": [],
   "source": [
    "#adding this puzzle name to var for .csv export\n",
    "puzzle_name = 'Day 9: Smoke Basin'"
   ]
  },
  {
   "cell_type": "markdown",
   "metadata": {},
   "source": [
    "## Strategy and Solution"
   ]
  },
  {
   "cell_type": "markdown",
   "metadata": {},
   "source": [
    "### Brute Force"
   ]
  },
  {
   "cell_type": "code",
   "execution_count": null,
   "metadata": {},
   "outputs": [],
   "source": [
    "'''\n",
    "\n",
    "'''"
   ]
  },
  {
   "cell_type": "code",
   "execution_count": null,
   "metadata": {},
   "outputs": [],
   "source": [
    "def brute_solution_p1():\n",
    "    return"
   ]
  },
  {
   "cell_type": "code",
   "execution_count": null,
   "metadata": {},
   "outputs": [],
   "source": [
    "p1_answer = brute_solution_p1(input_list)\n",
    "print(p1_answer)"
   ]
  },
  {
   "cell_type": "markdown",
   "metadata": {},
   "source": [
    "### Faster Method"
   ]
  },
  {
   "cell_type": "code",
   "execution_count": null,
   "metadata": {},
   "outputs": [],
   "source": [
    "'''\n",
    "\n",
    "'''"
   ]
  },
  {
   "cell_type": "code",
   "execution_count": null,
   "metadata": {},
   "outputs": [],
   "source": [
    "def solution_p1():\n",
    "    return"
   ]
  },
  {
   "cell_type": "code",
   "execution_count": null,
   "metadata": {},
   "outputs": [],
   "source": [
    "p1_answer = solution_p1(input_list)\n",
    "print(p1_answer)"
   ]
  },
  {
   "cell_type": "markdown",
   "metadata": {},
   "source": [
    "# Part 2"
   ]
  },
  {
   "cell_type": "markdown",
   "metadata": {},
   "source": [
    "## Problem Statement"
   ]
  },
  {
   "cell_type": "code",
   "execution_count": null,
   "metadata": {},
   "outputs": [],
   "source": [
    "'''\n",
    "--- Part Two ---\n",
    "Next, you need to find the largest basins so you know what areas are most important to avoid.\n",
    "\n",
    "A basin is all locations that eventually flow downward to a single low point. Therefore, every low point has a basin,\n",
    "although some basins are very small. Locations of height 9 do not count as being in any basin, and all other locations\n",
    "will always be part of exactly one basin.\n",
    "\n",
    "The size of a basin is the number of locations within the basin, including the low point. The example above has four basins.\n",
    "\n",
    "The top-left basin, size 3:\n",
    "\n",
    "2199943210\n",
    "3987894921\n",
    "9856789892\n",
    "8767896789\n",
    "9899965678\n",
    "The top-right basin, size 9:\n",
    "\n",
    "2199943210\n",
    "3987894921\n",
    "9856789892\n",
    "8767896789\n",
    "9899965678\n",
    "The middle basin, size 14:\n",
    "\n",
    "2199943210\n",
    "3987894921\n",
    "9856789892\n",
    "8767896789\n",
    "9899965678\n",
    "The bottom-right basin, size 9:\n",
    "\n",
    "2199943210\n",
    "3987894921\n",
    "9856789892\n",
    "8767896789\n",
    "9899965678\n",
    "Find the three largest basins and multiply their sizes together. In the above example, this is 9 * 14 * 9 = 1134.\n",
    "\n",
    "What do you get if you multiply together the sizes of the three largest basins?\n",
    "'''"
   ]
  },
  {
   "cell_type": "markdown",
   "metadata": {},
   "source": [
    "## Strategy and Solution"
   ]
  },
  {
   "cell_type": "markdown",
   "metadata": {},
   "source": [
    "### Brute Force"
   ]
  },
  {
   "cell_type": "code",
   "execution_count": null,
   "metadata": {},
   "outputs": [],
   "source": [
    "'''\n",
    "\n",
    "'''"
   ]
  },
  {
   "cell_type": "code",
   "execution_count": null,
   "metadata": {},
   "outputs": [],
   "source": [
    "def brute_solution_p2():\n",
    "    return"
   ]
  },
  {
   "cell_type": "code",
   "execution_count": null,
   "metadata": {},
   "outputs": [],
   "source": [
    "p2_answer = brute_solution_p2(input_list)\n",
    "print(p2_answer)"
   ]
  },
  {
   "cell_type": "markdown",
   "metadata": {},
   "source": [
    "### Faster Method"
   ]
  },
  {
   "cell_type": "code",
   "execution_count": null,
   "metadata": {},
   "outputs": [],
   "source": [
    "'''\n",
    "\n",
    "'''"
   ]
  },
  {
   "cell_type": "code",
   "execution_count": null,
   "metadata": {},
   "outputs": [],
   "source": [
    "def solution_p2():\n",
    "    return"
   ]
  },
  {
   "cell_type": "code",
   "execution_count": null,
   "metadata": {},
   "outputs": [],
   "source": [
    "p2_answer = solution_p2(input_list)\n",
    "print(p2_answer)"
   ]
  },
  {
   "cell_type": "markdown",
   "metadata": {},
   "source": [
    "# Export"
   ]
  },
  {
   "cell_type": "code",
   "execution_count": null,
   "metadata": {},
   "outputs": [],
   "source": [
    "# 558\n",
    "# 882942"
   ]
  },
  {
   "cell_type": "code",
   "execution_count": null,
   "metadata": {},
   "outputs": [],
   "source": [
    "import csv\n",
    "input_row = [puzzle_name, p1_answer, p2_answer]\n",
    "with open('../../submission_answers.csv', 'a', newline='') as new_row:  \n",
    "    writer_object = csv.writer(new_row)\n",
    "    writer_object.writerow(input_row)"
   ]
  }
 ],
 "metadata": {
  "interpreter": {
   "hash": "e94d89c61edb7043d9dc1b3e1ce26d28166b8b6282f4d8bdddba238f6ca3cf12"
  },
  "kernelspec": {
   "display_name": "Python 3.8.12 64-bit ('PythonData': conda)",
   "language": "python",
   "name": "python3"
  },
  "language_info": {
   "codemirror_mode": {
    "name": "ipython",
    "version": 3
   },
   "file_extension": ".py",
   "mimetype": "text/x-python",
   "name": "python",
   "nbconvert_exporter": "python",
   "pygments_lexer": "ipython3",
   "version": "3.8.12"
  },
  "orig_nbformat": 4
 },
 "nbformat": 4,
 "nbformat_minor": 2
}
