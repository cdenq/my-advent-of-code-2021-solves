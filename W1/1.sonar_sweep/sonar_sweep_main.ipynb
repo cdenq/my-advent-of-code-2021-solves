{
 "cells": [
  {
   "cell_type": "markdown",
   "metadata": {},
   "source": [
    "# Part 1"
   ]
  },
  {
   "cell_type": "markdown",
   "metadata": {},
   "source": [
    "## Problem Statement"
   ]
  },
  {
   "cell_type": "code",
   "execution_count": 34,
   "metadata": {},
   "outputs": [
    {
     "data": {
      "text/plain": [
       "\"\\n--- Day 1: Sonar Sweep ---\\n\\nYou're minding your own business on a ship at sea when the overboard alarm goes off!\\nYou rush to see if you can help. Apparently, one of the Elves tripped and accidentally\\nsent the sleigh keys flying into the ocean!\\n\\nBefore you know it, you're inside a submarine the Elves keep ready for situations like\\nthis. It's covered in Christmas lights (because of course it is), and it even has an\\nexperimental antenna that should be able to track the keys if you can boost its signal\\nstrength high enough; there's a little meter that indicates the antenna's signal strength\\nby displaying 0-50 stars.\\n\\nYour instincts tell you that in order to save Christmas, you'll need to get all fifty\\nstars by December 25th.\\n\\nCollect stars by solving puzzles. Two puzzles will be made available on each day in the\\nAdvent calendar; the second puzzle is unlocked when you complete the first. Each puzzle\\ngrants one star. Good luck!\\n\\nAs the submarine drops below the surface of the ocean, it automatically performs a sonar\\nsweep of the nearby sea floor. On a small screen, the sonar sweep report (your puzzle\\ninput) appears: each line is a measurement of the sea floor depth as the sweep looks\\nfurther and further away from the submarine.\\n\\nFor example, suppose you had the following report:\\n\\n199\\n200\\n208\\n210\\n200\\n207\\n240\\n269\\n260\\n263\\n\\nThis report indicates that, scanning outward from the submarine, the sonar sweep found\\ndepths of 199, 200, 208, 210, and so on.\\n\\nThe first order of business is to figure out how quickly the depth increases, just so\\nyou know what you're dealing with - you never know if the keys will get carried into\\ndeeper water by an ocean current or a fish or something.\\n\\nTo do this, count the number of times a depth measurement increases from the previous\\nmeasurement. (There is no measurement before the first measurement.) In the example\\nabove, the changes are as follows:\\n\\n199 (N/A - no previous measurement)\\n200 (increased)\\n208 (increased)\\n210 (increased)\\n200 (decreased)\\n207 (increased)\\n240 (increased)\\n269 (increased)\\n260 (decreased)\\n263 (increased)\\n\\nIn this example, there are 7 measurements that are larger than the previous measurement.\\n\\nHow many measurements are larger than the previous measurement?\\n\\nTo begin, get your puzzle input.\\n\""
      ]
     },
     "execution_count": 34,
     "metadata": {},
     "output_type": "execute_result"
    }
   ],
   "source": [
    "'''\n",
    "--- Day 1: Sonar Sweep ---\n",
    "\n",
    "You're minding your own business on a ship at sea when the overboard alarm goes off!\n",
    "You rush to see if you can help. Apparently, one of the Elves tripped and accidentally\n",
    "sent the sleigh keys flying into the ocean!\n",
    "\n",
    "Before you know it, you're inside a submarine the Elves keep ready for situations like\n",
    "this. It's covered in Christmas lights (because of course it is), and it even has an\n",
    "experimental antenna that should be able to track the keys if you can boost its signal\n",
    "strength high enough; there's a little meter that indicates the antenna's signal strength\n",
    "by displaying 0-50 stars.\n",
    "\n",
    "Your instincts tell you that in order to save Christmas, you'll need to get all fifty\n",
    "stars by December 25th.\n",
    "\n",
    "Collect stars by solving puzzles. Two puzzles will be made available on each day in the\n",
    "Advent calendar; the second puzzle is unlocked when you complete the first. Each puzzle\n",
    "grants one star. Good luck!\n",
    "\n",
    "As the submarine drops below the surface of the ocean, it automatically performs a sonar\n",
    "sweep of the nearby sea floor. On a small screen, the sonar sweep report (your puzzle\n",
    "input) appears: each line is a measurement of the sea floor depth as the sweep looks\n",
    "further and further away from the submarine.\n",
    "\n",
    "For example, suppose you had the following report:\n",
    "\n",
    "199\n",
    "200\n",
    "208\n",
    "210\n",
    "200\n",
    "207\n",
    "240\n",
    "269\n",
    "260\n",
    "263\n",
    "\n",
    "This report indicates that, scanning outward from the submarine, the sonar sweep found\n",
    "depths of 199, 200, 208, 210, and so on.\n",
    "\n",
    "The first order of business is to figure out how quickly the depth increases, just so\n",
    "you know what you're dealing with - you never know if the keys will get carried into\n",
    "deeper water by an ocean current or a fish or something.\n",
    "\n",
    "To do this, count the number of times a depth measurement increases from the previous\n",
    "measurement. (There is no measurement before the first measurement.) In the example\n",
    "above, the changes are as follows:\n",
    "\n",
    "199 (N/A - no previous measurement)\n",
    "200 (increased)\n",
    "208 (increased)\n",
    "210 (increased)\n",
    "200 (decreased)\n",
    "207 (increased)\n",
    "240 (increased)\n",
    "269 (increased)\n",
    "260 (decreased)\n",
    "263 (increased)\n",
    "\n",
    "In this example, there are 7 measurements that are larger than the previous measurement.\n",
    "\n",
    "How many measurements are larger than the previous measurement?\n",
    "\n",
    "To begin, get your puzzle input.\n",
    "'''"
   ]
  },
  {
   "cell_type": "markdown",
   "metadata": {},
   "source": [
    "### Data Setup"
   ]
  },
  {
   "cell_type": "code",
   "execution_count": 35,
   "metadata": {},
   "outputs": [],
   "source": [
    "#importing data from puzzle input\n",
    "with open('puzzle_input.txt', 'r') as input_data:\n",
    "    input_list = [int(line.strip()) for line in input_data]"
   ]
  },
  {
   "cell_type": "code",
   "execution_count": 36,
   "metadata": {},
   "outputs": [],
   "source": [
    "#adding this puzzle name to var for .csv export\n",
    "puzzle_name = 'Day 1: Sonar Sweep'"
   ]
  },
  {
   "cell_type": "markdown",
   "metadata": {},
   "source": [
    "## Strategy and Solution"
   ]
  },
  {
   "cell_type": "markdown",
   "metadata": {},
   "source": [
    "### Brute Force O(n)"
   ]
  },
  {
   "cell_type": "code",
   "execution_count": 37,
   "metadata": {},
   "outputs": [
    {
     "data": {
      "text/plain": [
       "'\\nLoop through list once and check if current term is less than the next term.\\n\\nIf so, increment counter; return counter at end of loop.\\n'"
      ]
     },
     "execution_count": 37,
     "metadata": {},
     "output_type": "execute_result"
    }
   ],
   "source": [
    "'''\n",
    "Loop through list once and check if current term is less than the next term.\n",
    "\n",
    "If so, increment counter; return counter at end of loop.\n",
    "'''"
   ]
  },
  {
   "cell_type": "code",
   "execution_count": 38,
   "metadata": {},
   "outputs": [],
   "source": [
    "def brute_solution_p1(arr):\n",
    "    counter = 0\n",
    "    for i in range(len(arr) - 1):\n",
    "        if arr[i] < arr[i+1]:\n",
    "            counter += 1\n",
    "    return counter"
   ]
  },
  {
   "cell_type": "code",
   "execution_count": 39,
   "metadata": {},
   "outputs": [
    {
     "name": "stdout",
     "output_type": "stream",
     "text": [
      "1139\n"
     ]
    }
   ],
   "source": [
    "p1_answer = brute_solution_p1(input_list)\n",
    "print(p1_answer)"
   ]
  },
  {
   "cell_type": "markdown",
   "metadata": {},
   "source": [
    "# Part 2"
   ]
  },
  {
   "cell_type": "markdown",
   "metadata": {},
   "source": [
    "## Problem Statement"
   ]
  },
  {
   "cell_type": "code",
   "execution_count": 40,
   "metadata": {},
   "outputs": [
    {
     "data": {
      "text/plain": [
       "\"\\n--- Part Two ---\\n\\nConsidering every single measurement isn't as useful as you expected: there's just too much noise in the data.\\n\\nInstead, consider sums of a three-measurement sliding window. Again considering the above example:\\n\\n199  A      \\n200  A B    \\n208  A B C  \\n210    B C D\\n200  E   C D\\n207  E F   D\\n240  E F G  \\n269    F G H\\n260      G H\\n263        H\\n\\nStart by comparing the first and second three-measurement windows. The measurements in the first window are marked A (199, 200, 208); their sum is 199 + 200 + 208 = 607. The second window is marked B (200, 208, 210); its sum is 618. The sum of measurements in the second window is larger than the sum of the first, so this first comparison increased.\\n\\nYour goal now is to count the number of times the sum of measurements in this sliding window increases from the previous sum. So, compare A with B, then compare B with C, then C with D, and so on. Stop when there aren't enough measurements left to create a new three-measurement sum.\\n\\nIn the above example, the sum of each three-measurement window is as follows:\\n\\nA: 607 (N/A - no previous sum)\\nB: 618 (increased)\\nC: 618 (no change)\\nD: 617 (decreased)\\nE: 647 (increased)\\nF: 716 (increased)\\nG: 769 (increased)\\nH: 792 (increased)\\n\\nIn this example, there are 5 sums that are larger than the previous sum.\\n\\nConsider sums of a three-measurement sliding window. How many sums are larger than the previous sum?\\n\""
      ]
     },
     "execution_count": 40,
     "metadata": {},
     "output_type": "execute_result"
    }
   ],
   "source": [
    "'''\n",
    "--- Part Two ---\n",
    "\n",
    "Considering every single measurement isn't as useful as you expected: there's just too much noise in the data.\n",
    "\n",
    "Instead, consider sums of a three-measurement sliding window. Again considering the above example:\n",
    "\n",
    "199  A      \n",
    "200  A B    \n",
    "208  A B C  \n",
    "210    B C D\n",
    "200  E   C D\n",
    "207  E F   D\n",
    "240  E F G  \n",
    "269    F G H\n",
    "260      G H\n",
    "263        H\n",
    "\n",
    "Start by comparing the first and second three-measurement windows. The measurements in the first window are marked A (199, 200, 208); their sum is 199 + 200 + 208 = 607. The second window is marked B (200, 208, 210); its sum is 618. The sum of measurements in the second window is larger than the sum of the first, so this first comparison increased.\n",
    "\n",
    "Your goal now is to count the number of times the sum of measurements in this sliding window increases from the previous sum. So, compare A with B, then compare B with C, then C with D, and so on. Stop when there aren't enough measurements left to create a new three-measurement sum.\n",
    "\n",
    "In the above example, the sum of each three-measurement window is as follows:\n",
    "\n",
    "A: 607 (N/A - no previous sum)\n",
    "B: 618 (increased)\n",
    "C: 618 (no change)\n",
    "D: 617 (decreased)\n",
    "E: 647 (increased)\n",
    "F: 716 (increased)\n",
    "G: 769 (increased)\n",
    "H: 792 (increased)\n",
    "\n",
    "In this example, there are 5 sums that are larger than the previous sum.\n",
    "\n",
    "Consider sums of a three-measurement sliding window. How many sums are larger than the previous sum?\n",
    "'''"
   ]
  },
  {
   "cell_type": "markdown",
   "metadata": {},
   "source": [
    "## Strategy and Solution"
   ]
  },
  {
   "cell_type": "markdown",
   "metadata": {},
   "source": [
    "### Brute Force"
   ]
  },
  {
   "cell_type": "code",
   "execution_count": 41,
   "metadata": {},
   "outputs": [
    {
     "data": {
      "text/plain": [
       "\"\\nCalculate and compare A+B+C < B+C+D on every section, increment counter when it's true, and return counter. \\n\""
      ]
     },
     "execution_count": 41,
     "metadata": {},
     "output_type": "execute_result"
    }
   ],
   "source": [
    "'''\n",
    "Calculate and compare A+B+C < B+C+D on every section, increment counter when it's true, and return counter. \n",
    "'''"
   ]
  },
  {
   "cell_type": "markdown",
   "metadata": {},
   "source": [
    "### Faster Method (Slightly)"
   ]
  },
  {
   "cell_type": "code",
   "execution_count": 42,
   "metadata": {},
   "outputs": [],
   "source": [
    "def solution_p2(arr):\n",
    "    counter = 0\n",
    "    for i in range(len(arr) - 3):\n",
    "        if arr[i] < arr[i+3]:\n",
    "            counter += 1\n",
    "    return counter"
   ]
  },
  {
   "cell_type": "code",
   "execution_count": 43,
   "metadata": {},
   "outputs": [
    {
     "name": "stdout",
     "output_type": "stream",
     "text": [
      "1103\n"
     ]
    }
   ],
   "source": [
    "p2_answer = solution_p2(input_list)\n",
    "print(p2_answer)"
   ]
  },
  {
   "cell_type": "markdown",
   "metadata": {},
   "source": [
    "# Export"
   ]
  },
  {
   "cell_type": "code",
   "execution_count": 44,
   "metadata": {},
   "outputs": [],
   "source": [
    "import csv\n",
    "input_row = [puzzle_name, p1_answer, p2_answer]\n",
    "with open('../../submission_answers.csv', 'a', newline='') as new_row:  \n",
    "    writer_object = csv.writer(new_row)\n",
    "    writer_object.writerow(input_row)"
   ]
  }
 ],
 "metadata": {
  "interpreter": {
   "hash": "e94d89c61edb7043d9dc1b3e1ce26d28166b8b6282f4d8bdddba238f6ca3cf12"
  },
  "kernelspec": {
   "display_name": "Python 3.8.12 64-bit ('PythonData': conda)",
   "language": "python",
   "name": "python3"
  },
  "language_info": {
   "codemirror_mode": {
    "name": "ipython",
    "version": 3
   },
   "file_extension": ".py",
   "mimetype": "text/x-python",
   "name": "python",
   "nbconvert_exporter": "python",
   "pygments_lexer": "ipython3",
   "version": "3.8.12"
  },
  "orig_nbformat": 4
 },
 "nbformat": 4,
 "nbformat_minor": 2
}
