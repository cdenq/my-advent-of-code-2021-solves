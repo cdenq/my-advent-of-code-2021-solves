{
 "cells": [
  {
   "cell_type": "markdown",
   "metadata": {},
   "source": [
    "# Part 1"
   ]
  },
  {
   "cell_type": "markdown",
   "metadata": {},
   "source": [
    "## Problem Statement"
   ]
  },
  {
   "cell_type": "code",
   "execution_count": null,
   "metadata": {},
   "outputs": [],
   "source": [
    "'''\n",
    "--- Day 5: Hydrothermal Venture ---\n",
    "You come across a field of hydrothermal vents on the ocean floor! These vents constantly produce large, opaque clouds, so it would be\n",
    "best to avoid them if possible.\n",
    "\n",
    "They tend to form in lines; the submarine helpfully produces a list of nearby lines of vents (your puzzle input) for you to review.\n",
    "For example:\n",
    "\n",
    "0,9 -> 5,9\n",
    "8,0 -> 0,8\n",
    "9,4 -> 3,4\n",
    "2,2 -> 2,1\n",
    "7,0 -> 7,4\n",
    "6,4 -> 2,0\n",
    "0,9 -> 2,9\n",
    "3,4 -> 1,4\n",
    "0,0 -> 8,8\n",
    "5,5 -> 8,2\n",
    "Each line of vents is given as a line segment in the format x1,y1 -> x2,y2 where x1,y1 are the coordinates of one end the line segment\n",
    "and x2,y2 are the coordinates of the other end. These line segments include the points at both ends. In other words:\n",
    "\n",
    "An entry like 1,1 -> 1,3 covers points 1,1, 1,2, and 1,3.\n",
    "An entry like 9,7 -> 7,7 covers points 9,7, 8,7, and 7,7.\n",
    "For now, only consider horizontal and vertical lines: lines where either x1 = x2 or y1 = y2.\n",
    "\n",
    "So, the horizontal and vertical lines from the above list would produce the following diagram:\n",
    "\n",
    ".......1..\n",
    "..1....1..\n",
    "..1....1..\n",
    ".......1..\n",
    ".112111211\n",
    "..........\n",
    "..........\n",
    "..........\n",
    "..........\n",
    "222111....\n",
    "In this diagram, the top left corner is 0,0 and the bottom right corner is 9,9. Each position is shown as the number of lines which\n",
    "cover that point or . if no line covers that point. The top-left pair of 1s, for example, comes from 2,2 -> 2,1; the very bottom row\n",
    "is formed by the overlapping lines 0,9 -> 5,9 and 0,9 -> 2,9.\n",
    "\n",
    "To avoid the most dangerous areas, you need to determine the number of points where at least two lines overlap. In the above example,\n",
    "this is anywhere in the diagram with a 2 or larger - a total of 5 points.\n",
    "\n",
    "Consider only horizontal and vertical lines. At how many points do at least two lines overlap?\n",
    "'''"
   ]
  },
  {
   "cell_type": "markdown",
   "metadata": {},
   "source": [
    "### Data Setup"
   ]
  },
  {
   "cell_type": "code",
   "execution_count": null,
   "metadata": {},
   "outputs": [],
   "source": [
    "#importing data from puzzle input\n",
    "with open('puzzle_input.txt', 'r') as input_data:\n",
    "    input_list = [int(line.strip()) for line in input_data]"
   ]
  },
  {
   "cell_type": "code",
   "execution_count": null,
   "metadata": {},
   "outputs": [],
   "source": [
    "#adding this puzzle name to var for .csv export\n",
    "puzzle_name = 'Day 5: Hydrothermal Venture'"
   ]
  },
  {
   "cell_type": "markdown",
   "metadata": {},
   "source": [
    "## Strategy and Solution"
   ]
  },
  {
   "cell_type": "markdown",
   "metadata": {},
   "source": [
    "### Brute Force"
   ]
  },
  {
   "cell_type": "code",
   "execution_count": null,
   "metadata": {},
   "outputs": [],
   "source": [
    "'''\n",
    "\n",
    "'''"
   ]
  },
  {
   "cell_type": "code",
   "execution_count": null,
   "metadata": {},
   "outputs": [],
   "source": [
    "def brute_solution_p1():\n",
    "    return"
   ]
  },
  {
   "cell_type": "code",
   "execution_count": null,
   "metadata": {},
   "outputs": [],
   "source": [
    "p1_answer = brute_solution_p1(input_list)\n",
    "print(p1_answer)"
   ]
  },
  {
   "cell_type": "markdown",
   "metadata": {},
   "source": [
    "### Faster Method"
   ]
  },
  {
   "cell_type": "code",
   "execution_count": null,
   "metadata": {},
   "outputs": [],
   "source": [
    "'''\n",
    "\n",
    "'''"
   ]
  },
  {
   "cell_type": "code",
   "execution_count": null,
   "metadata": {},
   "outputs": [],
   "source": [
    "def solution_p1():\n",
    "    return"
   ]
  },
  {
   "cell_type": "code",
   "execution_count": null,
   "metadata": {},
   "outputs": [],
   "source": [
    "p1_answer = solution_p1(input_list)\n",
    "print(p1_answer)"
   ]
  },
  {
   "cell_type": "markdown",
   "metadata": {},
   "source": [
    "# Part 2"
   ]
  },
  {
   "cell_type": "markdown",
   "metadata": {},
   "source": [
    "## Problem Statement"
   ]
  },
  {
   "cell_type": "code",
   "execution_count": null,
   "metadata": {},
   "outputs": [],
   "source": [
    "'''\n",
    "--- Part Two ---\n",
    "Unfortunately, considering only horizontal and vertical lines doesn't give you the full picture; you need to also consider\n",
    "diagonal lines.\n",
    "\n",
    "Because of the limits of the hydrothermal vent mapping system, the lines in your list will only ever be horizontal, vertical,\n",
    "or a diagonal line at exactly 45 degrees. In other words:\n",
    "\n",
    "An entry like 1,1 -> 3,3 covers points 1,1, 2,2, and 3,3.\n",
    "An entry like 9,7 -> 7,9 covers points 9,7, 8,8, and 7,9.\n",
    "Considering all lines from the above example would now produce the following diagram:\n",
    "\n",
    "1.1....11.\n",
    ".111...2..\n",
    "..2.1.111.\n",
    "...1.2.2..\n",
    ".112313211\n",
    "...1.2....\n",
    "..1...1...\n",
    ".1.....1..\n",
    "1.......1.\n",
    "222111....\n",
    "You still need to determine the number of points where at least two lines overlap. In the above example, this is still anywhere\n",
    "in the diagram with a 2 or larger - now a total of 12 points.\n",
    "\n",
    "Consider all of the lines. At how many points do at least two lines overlap?\n",
    "'''"
   ]
  },
  {
   "cell_type": "markdown",
   "metadata": {},
   "source": [
    "## Strategy and Solution"
   ]
  },
  {
   "cell_type": "markdown",
   "metadata": {},
   "source": [
    "### Brute Force"
   ]
  },
  {
   "cell_type": "code",
   "execution_count": null,
   "metadata": {},
   "outputs": [],
   "source": [
    "'''\n",
    "\n",
    "'''"
   ]
  },
  {
   "cell_type": "code",
   "execution_count": null,
   "metadata": {},
   "outputs": [],
   "source": [
    "def brute_solution_p2():\n",
    "    return"
   ]
  },
  {
   "cell_type": "code",
   "execution_count": null,
   "metadata": {},
   "outputs": [],
   "source": [
    "p2_answer = brute_solution_p2(input_list)\n",
    "print(p2_answer)"
   ]
  },
  {
   "cell_type": "markdown",
   "metadata": {},
   "source": [
    "### Faster Method"
   ]
  },
  {
   "cell_type": "code",
   "execution_count": null,
   "metadata": {},
   "outputs": [],
   "source": [
    "'''\n",
    "\n",
    "'''"
   ]
  },
  {
   "cell_type": "code",
   "execution_count": null,
   "metadata": {},
   "outputs": [],
   "source": [
    "def solution_p2():\n",
    "    return"
   ]
  },
  {
   "cell_type": "code",
   "execution_count": null,
   "metadata": {},
   "outputs": [],
   "source": [
    "p2_answer = solution_p2(input_list)\n",
    "print(p2_answer)"
   ]
  },
  {
   "cell_type": "markdown",
   "metadata": {},
   "source": [
    "# Export"
   ]
  },
  {
   "cell_type": "code",
   "execution_count": 1,
   "metadata": {},
   "outputs": [],
   "source": [
    "#5373\n",
    "#21514"
   ]
  },
  {
   "cell_type": "code",
   "execution_count": null,
   "metadata": {},
   "outputs": [],
   "source": [
    "import csv\n",
    "input_row = [puzzle_name, p1_answer, p2_answer]\n",
    "with open('../../submission_answers.csv', 'a', newline='') as new_row:  \n",
    "    writer_object = csv.writer(new_row)\n",
    "    writer_object.writerow(input_row)"
   ]
  }
 ],
 "metadata": {
  "interpreter": {
   "hash": "e94d89c61edb7043d9dc1b3e1ce26d28166b8b6282f4d8bdddba238f6ca3cf12"
  },
  "kernelspec": {
   "display_name": "Python 3.8.12 64-bit ('PythonData': conda)",
   "language": "python",
   "name": "python3"
  },
  "language_info": {
   "codemirror_mode": {
    "name": "ipython",
    "version": 3
   },
   "file_extension": ".py",
   "mimetype": "text/x-python",
   "name": "python",
   "nbconvert_exporter": "python",
   "pygments_lexer": "ipython3",
   "version": "3.8.12"
  },
  "orig_nbformat": 4
 },
 "nbformat": 4,
 "nbformat_minor": 2
}
