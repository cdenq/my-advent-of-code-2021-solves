{
 "cells": [
  {
   "cell_type": "markdown",
   "metadata": {},
   "source": [
    "# Part 1"
   ]
  },
  {
   "cell_type": "markdown",
   "metadata": {},
   "source": [
    "## Problem Statement"
   ]
  },
  {
   "cell_type": "code",
   "execution_count": 1,
   "metadata": {},
   "outputs": [
    {
     "data": {
      "text/plain": [
       "\"\\n--- Day 2: Dive! ---\\nNow, you need to figure out how to pilot this thing.\\n\\nIt seems like the submarine can take a series of commands\\nlike forward 1, down 2, or up 3:\\n\\nforward X increases the horizontal position by X units.\\ndown X increases the depth by X units.\\nup X decreases the depth by X units.\\n\\nNote that since you're on a submarine, down and up affect\\nyour depth, and so they have the opposite result of what\\nyou might expect.\\n\\nThe submarine seems to already have a planned course\\n(your puzzle input). You should probably figure out\\nwhere it's going. For example:\\n\\nforward 5\\ndown 5\\nforward 8\\nup 3\\ndown 8\\nforward 2\\nYour horizontal position and depth both start at 0.\\nThe steps above would then modify them as follows:\\n\\nforward 5 adds 5 to your horizontal position, a total of 5.\\ndown 5 adds 5 to your depth, resulting in a value of 5.\\nforward 8 adds 8 to your horizontal position, a total of 13.\\nup 3 decreases your depth by 3, resulting in a value of 2.\\ndown 8 adds 8 to your depth, resulting in a value of 10.\\nforward 2 adds 2 to your horizontal position, a total of 15.\\nAfter following these instructions, you would have a horizontal\\nposition of 15 and a depth of 10. (Multiplying these together\\nproduces 150.)\\n\\nCalculate the horizontal position and depth you would have after\\nfollowing the planned course. What do you get if you multiply\\nyour final horizontal position by your final depth?\\n\\nTo begin, get your puzzle input.\\n\""
      ]
     },
     "execution_count": 1,
     "metadata": {},
     "output_type": "execute_result"
    }
   ],
   "source": [
    "'''\n",
    "--- Day 2: Dive! ---\n",
    "Now, you need to figure out how to pilot this thing.\n",
    "\n",
    "It seems like the submarine can take a series of commands\n",
    "like forward 1, down 2, or up 3:\n",
    "\n",
    "forward X increases the horizontal position by X units.\n",
    "down X increases the depth by X units.\n",
    "up X decreases the depth by X units.\n",
    "\n",
    "Note that since you're on a submarine, down and up affect\n",
    "your depth, and so they have the opposite result of what\n",
    "you might expect.\n",
    "\n",
    "The submarine seems to already have a planned course\n",
    "(your puzzle input). You should probably figure out\n",
    "where it's going. For example:\n",
    "\n",
    "forward 5\n",
    "down 5\n",
    "forward 8\n",
    "up 3\n",
    "down 8\n",
    "forward 2\n",
    "Your horizontal position and depth both start at 0.\n",
    "The steps above would then modify them as follows:\n",
    "\n",
    "forward 5 adds 5 to your horizontal position, a total of 5.\n",
    "down 5 adds 5 to your depth, resulting in a value of 5.\n",
    "forward 8 adds 8 to your horizontal position, a total of 13.\n",
    "up 3 decreases your depth by 3, resulting in a value of 2.\n",
    "down 8 adds 8 to your depth, resulting in a value of 10.\n",
    "forward 2 adds 2 to your horizontal position, a total of 15.\n",
    "After following these instructions, you would have a horizontal\n",
    "position of 15 and a depth of 10. (Multiplying these together\n",
    "produces 150.)\n",
    "\n",
    "Calculate the horizontal position and depth you would have after\n",
    "following the planned course. What do you get if you multiply\n",
    "your final horizontal position by your final depth?\n",
    "\n",
    "To begin, get your puzzle input.\n",
    "'''"
   ]
  },
  {
   "cell_type": "markdown",
   "metadata": {},
   "source": [
    "### Data Setup"
   ]
  },
  {
   "cell_type": "code",
   "execution_count": 2,
   "metadata": {},
   "outputs": [],
   "source": [
    "#importing data from puzzle input\n",
    "with open('puzzle_input.txt', 'r') as input_data:\n",
    "    input_list = [line.strip() for line in input_data]"
   ]
  },
  {
   "cell_type": "code",
   "execution_count": 3,
   "metadata": {},
   "outputs": [],
   "source": [
    "#adding this puzzle name to var for .csv export\n",
    "puzzle_name = 'Day 2: Dive!'"
   ]
  },
  {
   "cell_type": "markdown",
   "metadata": {},
   "source": [
    "## Strategy and Solution"
   ]
  },
  {
   "cell_type": "markdown",
   "metadata": {},
   "source": [
    "### Brute Force"
   ]
  },
  {
   "cell_type": "code",
   "execution_count": 4,
   "metadata": {},
   "outputs": [
    {
     "data": {
      "text/plain": [
       "'\\nFirst thought is to loop through the entire list, sorting them into the\\nappropriate sublist as we go.\\n\\nWe can then do a summation on the relevant lists to get our answer.\\n'"
      ]
     },
     "execution_count": 4,
     "metadata": {},
     "output_type": "execute_result"
    }
   ],
   "source": [
    "'''\n",
    "First thought is to loop through the entire list, sorting them into the\n",
    "appropriate sublist as we go.\n",
    "\n",
    "We can then do a summation on the relevant lists to get our answer.\n",
    "'''"
   ]
  },
  {
   "cell_type": "code",
   "execution_count": 5,
   "metadata": {},
   "outputs": [],
   "source": [
    "def brute_solution_p1(arr):\n",
    "    forward_ls = []\n",
    "    depth_ls = []\n",
    "    for direction in arr:\n",
    "        if 'forward' in direction:\n",
    "            forward_ls.append(int(direction.split(' ')[1]))\n",
    "        elif 'down' in direction:\n",
    "            depth_ls.append(int(direction.split(' ')[1]))\n",
    "        elif 'up' in direction:\n",
    "            depth_ls.append(int(direction.split(' ')[1]) * -1)\n",
    "    return sum(forward_ls) * sum(depth_ls)"
   ]
  },
  {
   "cell_type": "code",
   "execution_count": 6,
   "metadata": {},
   "outputs": [
    {
     "name": "stdout",
     "output_type": "stream",
     "text": [
      "1728414\n"
     ]
    }
   ],
   "source": [
    "p1_answer = brute_solution_p1(input_list)\n",
    "print(p1_answer)"
   ]
  },
  {
   "cell_type": "markdown",
   "metadata": {},
   "source": [
    "### Faster Method (Slightly)"
   ]
  },
  {
   "cell_type": "code",
   "execution_count": 7,
   "metadata": {},
   "outputs": [
    {
     "data": {
      "text/plain": [
       "'\\nWe can save on space complexity by just doing a rolling calcuation\\nrather than saving every number into a list and then solving\\n'"
      ]
     },
     "execution_count": 7,
     "metadata": {},
     "output_type": "execute_result"
    }
   ],
   "source": [
    "'''\n",
    "We can save on space complexity by just doing a rolling calcuation\n",
    "rather than saving every number into a list and then solving\n",
    "'''"
   ]
  },
  {
   "cell_type": "code",
   "execution_count": 8,
   "metadata": {},
   "outputs": [],
   "source": [
    "def solution_p1(arr):\n",
    "    depth = 0\n",
    "    traveled = 0\n",
    "    for direction in arr:\n",
    "        if 'forward' in direction:\n",
    "            traveled += int(direction.split(' ')[1])\n",
    "        elif 'down' in direction:\n",
    "            depth += int(direction.split(' ')[1])\n",
    "        elif 'up' in direction:\n",
    "            depth += int(direction.split(' ')[1]) * -1\n",
    "    return traveled * depth"
   ]
  },
  {
   "cell_type": "code",
   "execution_count": 9,
   "metadata": {},
   "outputs": [
    {
     "name": "stdout",
     "output_type": "stream",
     "text": [
      "1728414\n"
     ]
    }
   ],
   "source": [
    "p1_answer = solution_p1(input_list)\n",
    "print(p1_answer)"
   ]
  },
  {
   "cell_type": "markdown",
   "metadata": {},
   "source": [
    "# Part 2"
   ]
  },
  {
   "cell_type": "markdown",
   "metadata": {},
   "source": [
    "## Problem Statement"
   ]
  },
  {
   "cell_type": "code",
   "execution_count": 10,
   "metadata": {},
   "outputs": [
    {
     "data": {
      "text/plain": [
       "'\\n--- Part Two ---\\nBased on your calculations, the planned course doesn\\'t seem\\nto make any sense. You find the submarine manual and discover\\nthat the process is actually slightly more complicated.\\n\\nIn addition to horizontal position and depth, you\\'ll also need\\nto track a third value, aim, which also starts at 0. The commands\\nalso mean something entirely different than you first thought:\\n\\ndown X increases your aim by X units.\\nup X decreases your aim by X units.\\nforward X does two things:\\nIt increases your horizontal position by X units.\\nIt increases your depth by your aim multiplied by X.\\nAgain note that since you\\'re on a submarine, down and up do the\\nopposite of what you might expect: \"down\" means aiming in the\\npositive direction.\\n\\nNow, the above example does something different:\\n\\nforward 5 adds 5 to your horizontal position, a total of 5.\\nBecause your aim is 0, your depth does not change.\\ndown 5 adds 5 to your aim, resulting in a value of 5.\\nforward 8 adds 8 to your horizontal position, a total of 13.\\nBecause your aim is 5, your depth increases by 8*5=40.\\nup 3 decreases your aim by 3, resulting in a value of 2.\\ndown 8 adds 8 to your aim, resulting in a value of 10.\\nforward 2 adds 2 to your horizontal position, a total of 15.\\nBecause your aim is 10, your depth increases by 2*10=20 to a\\ntotal of 60.\\nAfter following these new instructions, you would have a\\nhorizontal position of 15 and a depth of 60. (Multiplying these\\nproduces 900.)\\n\\nUsing this new interpretation of the commands, calculate the\\nhorizontal position and depth you would have after following\\nthe planned course. What do you get if you multiply your final\\nhorizontal position by your final depth?\\n'"
      ]
     },
     "execution_count": 10,
     "metadata": {},
     "output_type": "execute_result"
    }
   ],
   "source": [
    "'''\n",
    "--- Part Two ---\n",
    "Based on your calculations, the planned course doesn't seem\n",
    "to make any sense. You find the submarine manual and discover\n",
    "that the process is actually slightly more complicated.\n",
    "\n",
    "In addition to horizontal position and depth, you'll also need\n",
    "to track a third value, aim, which also starts at 0. The commands\n",
    "also mean something entirely different than you first thought:\n",
    "\n",
    "down X increases your aim by X units.\n",
    "up X decreases your aim by X units.\n",
    "forward X does two things:\n",
    "It increases your horizontal position by X units.\n",
    "It increases your depth by your aim multiplied by X.\n",
    "Again note that since you're on a submarine, down and up do the\n",
    "opposite of what you might expect: \"down\" means aiming in the\n",
    "positive direction.\n",
    "\n",
    "Now, the above example does something different:\n",
    "\n",
    "forward 5 adds 5 to your horizontal position, a total of 5.\n",
    "Because your aim is 0, your depth does not change.\n",
    "down 5 adds 5 to your aim, resulting in a value of 5.\n",
    "forward 8 adds 8 to your horizontal position, a total of 13.\n",
    "Because your aim is 5, your depth increases by 8*5=40.\n",
    "up 3 decreases your aim by 3, resulting in a value of 2.\n",
    "down 8 adds 8 to your aim, resulting in a value of 10.\n",
    "forward 2 adds 2 to your horizontal position, a total of 15.\n",
    "Because your aim is 10, your depth increases by 2*10=20 to a\n",
    "total of 60.\n",
    "After following these new instructions, you would have a\n",
    "horizontal position of 15 and a depth of 60. (Multiplying these\n",
    "produces 900.)\n",
    "\n",
    "Using this new interpretation of the commands, calculate the\n",
    "horizontal position and depth you would have after following\n",
    "the planned course. What do you get if you multiply your final\n",
    "horizontal position by your final depth?\n",
    "'''"
   ]
  },
  {
   "cell_type": "markdown",
   "metadata": {},
   "source": [
    "## Strategy and Solution"
   ]
  },
  {
   "cell_type": "markdown",
   "metadata": {},
   "source": [
    "### Brute Force"
   ]
  },
  {
   "cell_type": "code",
   "execution_count": 11,
   "metadata": {},
   "outputs": [
    {
     "data": {
      "text/plain": [
       "'\\nWe can store all the values in a sublists and then do aggregation functions\\non the sublists, but that is less space efficient\\n'"
      ]
     },
     "execution_count": 11,
     "metadata": {},
     "output_type": "execute_result"
    }
   ],
   "source": [
    "'''\n",
    "We can store all the values in a sublists and then do aggregation functions\n",
    "on the sublists, but that is less space efficient\n",
    "'''"
   ]
  },
  {
   "cell_type": "markdown",
   "metadata": {},
   "source": [
    "### Faster Method"
   ]
  },
  {
   "cell_type": "code",
   "execution_count": 12,
   "metadata": {},
   "outputs": [
    {
     "data": {
      "text/plain": [
       "'\\nWe can build off of our faster method in part one, just adding the\\nrelevant variables and rules from the prompt.\\n'"
      ]
     },
     "execution_count": 12,
     "metadata": {},
     "output_type": "execute_result"
    }
   ],
   "source": [
    "'''\n",
    "We can build off of our faster method in part one, just adding the\n",
    "relevant variables and rules from the prompt.\n",
    "'''"
   ]
  },
  {
   "cell_type": "code",
   "execution_count": 13,
   "metadata": {},
   "outputs": [],
   "source": [
    "def solution_p2(arr):\n",
    "    depth = 0\n",
    "    traveled = 0\n",
    "    aim = 0\n",
    "    for direction in arr:\n",
    "        if 'forward' in direction:\n",
    "            delta = int(direction.split(' ')[1])\n",
    "            traveled += delta\n",
    "            depth += delta * aim\n",
    "        elif 'down' in direction:\n",
    "            delta = int(direction.split(' ')[1])\n",
    "            aim += delta\n",
    "        elif 'up' in direction:\n",
    "            delta = int(direction.split(' ')[1]) * -1\n",
    "            aim += delta\n",
    "    return traveled * depth"
   ]
  },
  {
   "cell_type": "code",
   "execution_count": 14,
   "metadata": {},
   "outputs": [
    {
     "name": "stdout",
     "output_type": "stream",
     "text": [
      "1765720035\n"
     ]
    }
   ],
   "source": [
    "p2_answer = solution_p2(input_list)\n",
    "print(p2_answer)"
   ]
  },
  {
   "cell_type": "markdown",
   "metadata": {},
   "source": [
    "# Export"
   ]
  },
  {
   "cell_type": "code",
   "execution_count": 15,
   "metadata": {},
   "outputs": [],
   "source": [
    "import csv\n",
    "input_row = [puzzle_name, p1_answer, p2_answer]\n",
    "with open('../../submission_answers.csv', 'a', newline='') as new_row:  \n",
    "    writer_object = csv.writer(new_row)\n",
    "    writer_object.writerow(input_row)"
   ]
  }
 ],
 "metadata": {
  "interpreter": {
   "hash": "e94d89c61edb7043d9dc1b3e1ce26d28166b8b6282f4d8bdddba238f6ca3cf12"
  },
  "kernelspec": {
   "display_name": "Python 3.8.12 64-bit ('PythonData': conda)",
   "language": "python",
   "name": "python3"
  },
  "language_info": {
   "codemirror_mode": {
    "name": "ipython",
    "version": 3
   },
   "file_extension": ".py",
   "mimetype": "text/x-python",
   "name": "python",
   "nbconvert_exporter": "python",
   "pygments_lexer": "ipython3",
   "version": "3.8.12"
  },
  "orig_nbformat": 4
 },
 "nbformat": 4,
 "nbformat_minor": 2
}
