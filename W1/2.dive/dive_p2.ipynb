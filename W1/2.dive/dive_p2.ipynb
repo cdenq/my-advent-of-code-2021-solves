{
 "cells": [
  {
   "cell_type": "code",
   "execution_count": 1,
   "metadata": {},
   "outputs": [
    {
     "data": {
      "text/plain": [
       "'\\n--- Part Two ---\\nBased on your calculations, the planned course doesn\\'t seem to make any sense. You find the submarine manual and discover that the process is actually slightly more complicated.\\n\\nIn addition to horizontal position and depth, you\\'ll also need to track a third value, aim, which also starts at 0. The commands also mean something entirely different than you first thought:\\n\\ndown X increases your aim by X units.\\nup X decreases your aim by X units.\\nforward X does two things:\\nIt increases your horizontal position by X units.\\nIt increases your depth by your aim multiplied by X.\\nAgain note that since you\\'re on a submarine, down and up do the opposite of what you might expect: \"down\" means aiming in the positive direction.\\n\\nNow, the above example does something different:\\n\\nforward 5 adds 5 to your horizontal position, a total of 5. Because your aim is 0, your depth does not change.\\ndown 5 adds 5 to your aim, resulting in a value of 5.\\nforward 8 adds 8 to your horizontal position, a total of 13. Because your aim is 5, your depth increases by 8*5=40.\\nup 3 decreases your aim by 3, resulting in a value of 2.\\ndown 8 adds 8 to your aim, resulting in a value of 10.\\nforward 2 adds 2 to your horizontal position, a total of 15. Because your aim is 10, your depth increases by 2*10=20 to a total of 60.\\nAfter following these new instructions, you would have a horizontal position of 15 and a depth of 60. (Multiplying these produces 900.)\\n\\nUsing this new interpretation of the commands, calculate the horizontal position and depth you would have after following the planned course. What do you get if you multiply your final horizontal position by your final depth?\\n'"
      ]
     },
     "execution_count": 1,
     "metadata": {},
     "output_type": "execute_result"
    }
   ],
   "source": [
    "'''\n",
    "--- Part Two ---\n",
    "Based on your calculations, the planned course doesn't seem to make any sense. You find the submarine manual and discover that the process is actually slightly more complicated.\n",
    "\n",
    "In addition to horizontal position and depth, you'll also need to track a third value, aim, which also starts at 0. The commands also mean something entirely different than you first thought:\n",
    "\n",
    "down X increases your aim by X units.\n",
    "up X decreases your aim by X units.\n",
    "forward X does two things:\n",
    "It increases your horizontal position by X units.\n",
    "It increases your depth by your aim multiplied by X.\n",
    "Again note that since you're on a submarine, down and up do the opposite of what you might expect: \"down\" means aiming in the positive direction.\n",
    "\n",
    "Now, the above example does something different:\n",
    "\n",
    "forward 5 adds 5 to your horizontal position, a total of 5. Because your aim is 0, your depth does not change.\n",
    "down 5 adds 5 to your aim, resulting in a value of 5.\n",
    "forward 8 adds 8 to your horizontal position, a total of 13. Because your aim is 5, your depth increases by 8*5=40.\n",
    "up 3 decreases your aim by 3, resulting in a value of 2.\n",
    "down 8 adds 8 to your aim, resulting in a value of 10.\n",
    "forward 2 adds 2 to your horizontal position, a total of 15. Because your aim is 10, your depth increases by 2*10=20 to a total of 60.\n",
    "After following these new instructions, you would have a horizontal position of 15 and a depth of 60. (Multiplying these produces 900.)\n",
    "\n",
    "Using this new interpretation of the commands, calculate the horizontal position and depth you would have after following the planned course. What do you get if you multiply your final horizontal position by your final depth?\n",
    "'''"
   ]
  },
  {
   "cell_type": "code",
   "execution_count": 2,
   "metadata": {},
   "outputs": [],
   "source": [
    "def solution(arr):\n",
    "    hori_pos = 0\n",
    "    aim = 0\n",
    "    depth_pos = 0\n",
    "    for direction in arr:\n",
    "        if 'forward' in direction:\n",
    "            delta = int(direction.split(' ')[1])\n",
    "            hori_pos += delta\n",
    "            depth_pos += delta * aim\n",
    "        elif 'down' in direction:\n",
    "            delta = int(direction.split(' ')[1])\n",
    "            aim += delta\n",
    "        elif 'up' in direction:\n",
    "            delta = int(direction.split(' ')[1]) * -1\n",
    "            aim += delta\n",
    "    return hori_pos * depth_pos"
   ]
  },
  {
   "cell_type": "code",
   "execution_count": 3,
   "metadata": {},
   "outputs": [],
   "source": [
    "with open('puzzle_input.txt', 'r') as input_data:\n",
    "    input_list = [line.strip() for line in input_data]"
   ]
  },
  {
   "cell_type": "code",
   "execution_count": 4,
   "metadata": {},
   "outputs": [
    {
     "data": {
      "text/plain": [
       "1765720035"
      ]
     },
     "execution_count": 4,
     "metadata": {},
     "output_type": "execute_result"
    }
   ],
   "source": [
    "solution(input_list)"
   ]
  }
 ],
 "metadata": {
  "interpreter": {
   "hash": "ea2b65024e24df10fa5992686c1c8510a4831519011fa6b2d6f1788e8385f578"
  },
  "kernelspec": {
   "display_name": "Python 3.8.12 64-bit ('PythonData': conda)",
   "language": "python",
   "name": "python3"
  },
  "language_info": {
   "codemirror_mode": {
    "name": "ipython",
    "version": 3
   },
   "file_extension": ".py",
   "mimetype": "text/x-python",
   "name": "python",
   "nbconvert_exporter": "python",
   "pygments_lexer": "ipython3",
   "version": "3.8.12"
  },
  "orig_nbformat": 4
 },
 "nbformat": 4,
 "nbformat_minor": 2
}
