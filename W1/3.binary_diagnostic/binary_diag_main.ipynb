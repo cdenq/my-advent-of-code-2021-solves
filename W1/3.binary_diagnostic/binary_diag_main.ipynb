{
 "cells": [
  {
   "cell_type": "markdown",
   "metadata": {},
   "source": [
    "# Part 1"
   ]
  },
  {
   "cell_type": "markdown",
   "metadata": {},
   "source": [
    "## Problem Statement"
   ]
  },
  {
   "cell_type": "code",
   "execution_count": 2,
   "metadata": {},
   "outputs": [
    {
     "data": {
      "text/plain": [
       "'\\n--- Day 3: Binary Diagnostic ---\\nThe submarine has been making some odd creaking noises, so you\\nask it to produce a diagnostic report just in case.\\n\\nThe diagnostic report (your puzzle input) consists of a list of\\nbinary numbers which, when decoded properly, can tell you many\\nuseful things about the conditions of the submarine. The first\\nparameter to check is the power consumption.\\n\\nYou need to use the binary numbers in the diagnostic report to\\ngenerate two new binary numbers (called the gamma rate and the\\nepsilon rate). The power consumption can then be found by\\nmultiplying the gamma rate by the epsilon rate.\\n\\nEach bit in the gamma rate can be determined by finding the most\\ncommon bit in the corresponding position of all numbers in the\\ndiagnostic report. For example, given the following diagnostic\\nreport:\\n\\n00100\\n11110\\n10110\\n10111\\n10101\\n01111\\n00111\\n11100\\n10000\\n11001\\n00010\\n01010\\n\\nConsidering only the first bit of each number, there are five 0\\nbits and seven 1 bits. Since the most common bit is 1, the first\\nbit of the gamma rate is 1.\\n\\nThe most common second bit of the numbers in the diagnostic report\\nis 0, so the second bit of the gamma rate is 0.\\n\\nThe most common value of the third, fourth, and fifth bits are 1, 1,\\nand 0, respectively, and so the final three bits of the gamma rate\\nare 110.\\n\\nSo, the gamma rate is the binary number 10110, or 22 in decimal.\\n\\nThe epsilon rate is calculated in a similar way; rather than use the\\nmost common bit, the least common bit from each position is used.\\nSo, the epsilon rate is 01001, or 9 in decimal. Multiplying the\\ngamma rate (22) by the epsilon rate (9) produces the power\\nconsumption, 198.\\n\\nUse the binary numbers in your diagnostic report to calculate the\\ngamma rate and epsilon rate, then multiply them together. What is\\nthe power consumption of the submarine? (Be sure to represent your\\nanswer in decimal, not binary.)\\n\\nTo begin, get your puzzle input.\\n'"
      ]
     },
     "execution_count": 2,
     "metadata": {},
     "output_type": "execute_result"
    }
   ],
   "source": [
    "'''\n",
    "--- Day 3: Binary Diagnostic ---\n",
    "The submarine has been making some odd creaking noises, so you\n",
    "ask it to produce a diagnostic report just in case.\n",
    "\n",
    "The diagnostic report (your puzzle input) consists of a list of\n",
    "binary numbers which, when decoded properly, can tell you many\n",
    "useful things about the conditions of the submarine. The first\n",
    "parameter to check is the power consumption.\n",
    "\n",
    "You need to use the binary numbers in the diagnostic report to\n",
    "generate two new binary numbers (called the gamma rate and the\n",
    "epsilon rate). The power consumption can then be found by\n",
    "multiplying the gamma rate by the epsilon rate.\n",
    "\n",
    "Each bit in the gamma rate can be determined by finding the most\n",
    "common bit in the corresponding position of all numbers in the\n",
    "diagnostic report. For example, given the following diagnostic\n",
    "report:\n",
    "\n",
    "00100\n",
    "11110\n",
    "10110\n",
    "10111\n",
    "10101\n",
    "01111\n",
    "00111\n",
    "11100\n",
    "10000\n",
    "11001\n",
    "00010\n",
    "01010\n",
    "\n",
    "Considering only the first bit of each number, there are five 0\n",
    "bits and seven 1 bits. Since the most common bit is 1, the first\n",
    "bit of the gamma rate is 1.\n",
    "\n",
    "The most common second bit of the numbers in the diagnostic report\n",
    "is 0, so the second bit of the gamma rate is 0.\n",
    "\n",
    "The most common value of the third, fourth, and fifth bits are 1, 1,\n",
    "and 0, respectively, and so the final three bits of the gamma rate\n",
    "are 110.\n",
    "\n",
    "So, the gamma rate is the binary number 10110, or 22 in decimal.\n",
    "\n",
    "The epsilon rate is calculated in a similar way; rather than use the\n",
    "most common bit, the least common bit from each position is used.\n",
    "So, the epsilon rate is 01001, or 9 in decimal. Multiplying the\n",
    "gamma rate (22) by the epsilon rate (9) produces the power\n",
    "consumption, 198.\n",
    "\n",
    "Use the binary numbers in your diagnostic report to calculate the\n",
    "gamma rate and epsilon rate, then multiply them together. What is\n",
    "the power consumption of the submarine? (Be sure to represent your\n",
    "answer in decimal, not binary.)\n",
    "\n",
    "To begin, get your puzzle input.\n",
    "'''"
   ]
  },
  {
   "cell_type": "markdown",
   "metadata": {},
   "source": [
    "### Data Setup"
   ]
  },
  {
   "cell_type": "code",
   "execution_count": 3,
   "metadata": {},
   "outputs": [],
   "source": [
    "#importing data from puzzle input\n",
    "with open('puzzle_input.txt', 'r') as input_data:\n",
    "    input_list = [line.strip() for line in input_data]"
   ]
  },
  {
   "cell_type": "code",
   "execution_count": 4,
   "metadata": {},
   "outputs": [],
   "source": [
    "#adding this puzzle name to var for .csv export\n",
    "puzzle_name = 'Day 3: Binary Diagnostic'"
   ]
  },
  {
   "cell_type": "markdown",
   "metadata": {},
   "source": [
    "## Strategy and Solution"
   ]
  },
  {
   "cell_type": "markdown",
   "metadata": {},
   "source": [
    "### Brute Force O(n^x) <= O(n^len(n[0]))"
   ]
  },
  {
   "cell_type": "code",
   "execution_count": 5,
   "metadata": {},
   "outputs": [
    {
     "data": {
      "text/plain": [
       "'\\nLoop through the list, reading the first bit of every item and incrementing\\na counter for 1 and for 0.\\n\\nAt the end of the first loop, we can assign the correct first bit\\nto the gamma/epi rates depending on the counter value.\\n\\nWe then can loop through the list again, looking for the second bit and so on\\nuntil we get all the bits.\\n'"
      ]
     },
     "execution_count": 5,
     "metadata": {},
     "output_type": "execute_result"
    }
   ],
   "source": [
    "'''\n",
    "Loop through the list, reading the first bit of every item and incrementing\n",
    "a counter for 1 and for 0.\n",
    "\n",
    "At the end of the first loop, we can assign the correct first bit\n",
    "to the gamma/epi rates depending on the counter value.\n",
    "\n",
    "We then can loop through the list again, looking for the second bit and so on\n",
    "until we get all the bits.\n",
    "'''"
   ]
  },
  {
   "cell_type": "markdown",
   "metadata": {},
   "source": [
    "### Faster Method O(n) <= O(n * len(n[0]))"
   ]
  },
  {
   "cell_type": "code",
   "execution_count": 6,
   "metadata": {},
   "outputs": [
    {
     "data": {
      "text/plain": [
       "\"\\nWe can substantially cut down our processing time by fetching all\\nthe values we need in just one loop.\\n\\nCreate a counter list that tracks the frequency of 1's that appear\\nin each bit, or position of each binary number.\\n\\nIterate through the list, and on every item, we can add 1 to the\\ncounter_list at the appropriate location.\\n\\nEG)\\ncounter_list = [_,_,_]\\n001\\n101\\n000\\n\\nafter looping through these 3 binaries, we get...\\ncounter_list = [1,0,2]\\nbecause there is one 1 in the first bit\\nzero 1s in the second bit\\nand two 1s in the third bit\\n\\nBecause these are binary strings, we can indirectly calculate the\\nfrequency of 0's off of our frequency of 1's by dividing the sums in\\ncounter_list by the length of our input (aka, total # of binaries)\\n\\ncounter_list = [1,0,2] => [1/3,0/3,2/3] => [.33, 0, .66]\\n\\nwe can then look at the frequencies in our counter_list to determine\\nthe final binary digits of both our rates. anything above\\n0.5 means that there are more 1's than 0's, anything below 0.5\\nmeans more 0's than 1's.\\n\""
      ]
     },
     "execution_count": 6,
     "metadata": {},
     "output_type": "execute_result"
    }
   ],
   "source": [
    "'''\n",
    "We can substantially cut down our processing time by fetching all\n",
    "the values we need in just one loop.\n",
    "\n",
    "Create a counter list that tracks the frequency of 1's that appear\n",
    "in each bit, or position of each binary number.\n",
    "\n",
    "Iterate through the list, and on every item, we can add 1 to the\n",
    "counter_list at the appropriate location.\n",
    "\n",
    "EG)\n",
    "counter_list = [_,_,_]\n",
    "001\n",
    "101\n",
    "000\n",
    "\n",
    "after looping through these 3 binaries, we get...\n",
    "counter_list = [1,0,2]\n",
    "because there is one 1 in the first bit\n",
    "zero 1s in the second bit\n",
    "and two 1s in the third bit\n",
    "\n",
    "Because these are binary strings, we can indirectly calculate the\n",
    "frequency of 0's off of our frequency of 1's by dividing the sums in\n",
    "counter_list by the length of our input (aka, total # of binaries)\n",
    "\n",
    "counter_list = [1,0,2] => [1/3,0/3,2/3] => [.33, 0, .66]\n",
    "\n",
    "we can then look at the frequencies in our counter_list to determine\n",
    "the final binary digits of both our rates. anything above\n",
    "0.5 means that there are more 1's than 0's, anything below 0.5\n",
    "means more 0's than 1's.\n",
    "'''"
   ]
  },
  {
   "cell_type": "code",
   "execution_count": 7,
   "metadata": {},
   "outputs": [],
   "source": [
    "def solution_p1(arr):\n",
    "    #note, assuming all binary numbers in input are same length\n",
    "    bin_length = len(arr[0])\n",
    "\n",
    "    #setting up vars\n",
    "    counter_list = [0] * bin_length\n",
    "    gamma, epsilon = \"\", \"\"\n",
    "\n",
    "    #populating counter_list\n",
    "    for binary in arr:\n",
    "        for i in range(bin_length):\n",
    "            counter_list[i] += int(binary[i])\n",
    "\n",
    "    #creating gamma and epi rates\n",
    "    for i in range(len(counter_list)):\n",
    "        if (counter_list[i] / len(arr)) > 0.5:\n",
    "            gamma += '1'\n",
    "            epsilon += '0'\n",
    "        elif (counter_list[i] / len(arr)) < 0.5:\n",
    "            gamma += '0'\n",
    "            epsilon += '1'\n",
    "        else: #catching if exactly 0.5 frequnecy\n",
    "            gamma += '-'\n",
    "            epsilon += '-'\n",
    "            print(f\"Bit {i} has an equal number of 1s and 0s!\")\n",
    "\n",
    "    #return result as base 10\n",
    "    return int(gamma, 2) * int(epsilon, 2)"
   ]
  },
  {
   "cell_type": "code",
   "execution_count": 8,
   "metadata": {},
   "outputs": [
    {
     "name": "stdout",
     "output_type": "stream",
     "text": [
      "2583164\n"
     ]
    }
   ],
   "source": [
    "p1_answer = solution_p1(input_list)\n",
    "print(p1_answer)"
   ]
  },
  {
   "cell_type": "markdown",
   "metadata": {},
   "source": [
    "# Part 2"
   ]
  },
  {
   "cell_type": "markdown",
   "metadata": {},
   "source": [
    "## Problem Statement"
   ]
  },
  {
   "cell_type": "code",
   "execution_count": null,
   "metadata": {},
   "outputs": [],
   "source": [
    "'''\n",
    "--- Part Two ---\n",
    "Next, you should verify the life support rating, which can be\n",
    "determined by multiplying the oxygen generator rating by the\n",
    "CO2 scrubber rating.\n",
    "\n",
    "Both the oxygen generator rating and the CO2 scrubber rating are\n",
    "values that can be found in your diagnostic report - finding them\n",
    "is the tricky part. Both values are located using a similar process\n",
    "involves filtering out values until only one remains. Before\n",
    "searching for either rating value, start with the full list of\n",
    "binary numbers from your diagnostic report and consider just the\n",
    "first bit of those numbers. Then:\n",
    "\n",
    "Keep only numbers selected by the bit criteria for the type of\n",
    "rating value for which you are searching. Discard numbers which\n",
    "do not match the bit criteria.\n",
    "\n",
    "If you only have one number left, stop; this is the rating value\n",
    "for which you are searching.\n",
    "\n",
    "Otherwise, repeat the process, considering the next bit to the\n",
    "right.\n",
    "\n",
    "The bit criteria depends on which type of rating value you want\n",
    "to find:\n",
    "\n",
    "To find oxygen generator rating, determine the most common value\n",
    "(0 or 1) in the current bit position, and keep only numbers with\n",
    "that bit in that position. If 0 and 1 are equally common, keep\n",
    "values with a 1 in the position being considered.\n",
    "To find CO2 scrubber rating, determine the least common value\n",
    "(0 or 1) in the current bit position, and keep only numbers with\n",
    "that bit in that position. If 0 and 1 are equally common, keep\n",
    "values with a 0 in the position being considered.\n",
    "For example, to determine the oxygen generator rating value using\n",
    "the same example diagnostic report from above:\n",
    "\n",
    "Start with all 12 numbers and consider only the first bit of each\n",
    "number. There are more 1 bits (7) than 0 bits (5), so keep only the\n",
    "7 numbers with a 1 in the first position: 11110, 10110, 10111, 10101,\n",
    "11100, 10000, and 11001.\n",
    "\n",
    "Then, consider the second bit of the 7 remaining numbers: there are\n",
    "more 0 bits (4) than 1 bits (3), so keep only the 4 numbers with a\n",
    "0 in the second position: 10110, 10111, 10101, and 10000.\n",
    "\n",
    "In the third position, three of the four numbers have a 1, so keep\n",
    "those three: 10110, 10111, and 10101.\n",
    "\n",
    "In the fourth position, two of the three numbers have a 1, so keep\n",
    "those two: 10110 and 10111.\n",
    "\n",
    "In the fifth position, there are an equal number of 0 bits and 1\n",
    "bits (one each). So, to find the oxygen generator rating, keep\n",
    "the number with a 1 in that position: 10111.\n",
    "\n",
    "As there is only one number left, stop; the oxygen generator\n",
    "rating is 10111, or 23 in decimal.\n",
    "\n",
    "Then, to determine the CO2 scrubber rating value from the same\n",
    "example above:\n",
    "\n",
    "Start again with all 12 numbers and consider only the first bit\n",
    "of each number. There are fewer 0 bits (5) than 1 bits (7), so\n",
    "keep only the 5 numbers with a 0 in the first position: 00100,\n",
    "01111, 00111, 00010, and 01010.\n",
    "\n",
    "Then, consider the second bit of the 5 remaining numbers: there\n",
    "are fewer 1 bits (2) than 0 bits (3), so keep only the 2 numbers\n",
    "with a 1 in the second position: 01111 and 01010.\n",
    "\n",
    "In the third position, there are an equal number of 0 bits and\n",
    "1 bits (one each). So, to find the CO2 scrubber rating, keep the\n",
    "number with a 0 in that position: 01010.\n",
    "\n",
    "As there is only one number left, stop; the CO2 scrubber rating\n",
    "is 01010, or 10 in decimal.\n",
    "\n",
    "Finally, to find the life support rating, multiply the oxygen\n",
    "generator rating (23) by the CO2 scrubber rating (10) to get 230.\n",
    "\n",
    "Use the binary numbers in your diagnostic report to calculate the\n",
    "oxygen generator rating and CO2 scrubber rating, then multiply\n",
    "them together. What is the life support rating of the submarine?\n",
    "(Be sure to represent your answer in decimal, not binary.)\n",
    "'''"
   ]
  },
  {
   "cell_type": "markdown",
   "metadata": {},
   "source": [
    "## Strategy and Solution"
   ]
  },
  {
   "cell_type": "markdown",
   "metadata": {},
   "source": [
    "### Brute Force O(n^x) <= O(2 * n ^ len(n[0]))"
   ]
  },
  {
   "cell_type": "code",
   "execution_count": null,
   "metadata": {},
   "outputs": [],
   "source": [
    "'''\n",
    "We can duplicate the input array and assign the two copies to their own oxy_ls and co2_ls. This way, we can drop values from one list without\n",
    "impacting the values in the other.\n",
    "\n",
    "We can loop through all the values in oxy_ls, checking the first bit, cutting out the ones that don't match, checking the next bit, and so on\n",
    "until only 1 binary remains.\n",
    "\n",
    "We can then do the same for co2_ls.\n",
    "'''"
   ]
  },
  {
   "cell_type": "code",
   "execution_count": 9,
   "metadata": {},
   "outputs": [],
   "source": [
    "def brute_solution_p2(arr):\n",
    "    oxy_ls, co2_ls = arr, arr\n",
    "    oxy_counter, co2_counter = 0, 0\n",
    "    \n",
    "    for i in range(len(arr[0])): #tracks the current bit position we're on\n",
    "        if len(oxy_ls) != 1: #proceed w filtering only if our current list has more than 1 binary\n",
    "            #checking frequency of 1s\n",
    "            for binary in oxy_ls:\n",
    "                oxy_counter += int(binary[i])\n",
    "\n",
    "            #filtering down values to create new list of valid binaries\n",
    "            if (oxy_counter / len(oxy_ls) >= 0.5):\n",
    "                oxy_new_ls = [binary for binary in oxy_ls if binary[i] == '1']\n",
    "            else:\n",
    "                oxy_new_ls = [binary for binary in oxy_ls if binary[i] == '0']\n",
    "\n",
    "            #replacing oxy_ls w list of valid binaries and reseting counter\n",
    "            oxy_ls = oxy_new_ls\n",
    "            oxy_counter = 0\n",
    "\n",
    "        # doing the same for co2 list\n",
    "        if len(co2_ls) != 1:\n",
    "            for binary in co2_ls:\n",
    "                co2_counter += int(binary[i])\n",
    "            if (co2_counter / len(co2_ls) < 0.5):\n",
    "                co2_new_ls = [binary for binary in co2_ls if binary[i] == '1']\n",
    "            else:\n",
    "                co2_new_ls = [binary for binary in co2_ls if binary[i] == '0']\n",
    "            co2_ls = co2_new_ls\n",
    "            co2_counter = 0\n",
    "    return int(oxy_ls[0], 2) * int(co2_ls[0],2)"
   ]
  },
  {
   "cell_type": "code",
   "execution_count": 10,
   "metadata": {},
   "outputs": [
    {
     "name": "stdout",
     "output_type": "stream",
     "text": [
      "2784375\n"
     ]
    }
   ],
   "source": [
    "p2_answer = brute_solution_p2(input_list)\n",
    "print(p2_answer)"
   ]
  },
  {
   "cell_type": "markdown",
   "metadata": {},
   "source": [
    "# Export"
   ]
  },
  {
   "cell_type": "code",
   "execution_count": 11,
   "metadata": {},
   "outputs": [],
   "source": [
    "import csv\n",
    "input_row = [puzzle_name, p1_answer, p2_answer]\n",
    "with open('../../submission_answers.csv', 'a', newline='') as new_row:  \n",
    "    writer_object = csv.writer(new_row)\n",
    "    writer_object.writerow(input_row)"
   ]
  }
 ],
 "metadata": {
  "interpreter": {
   "hash": "e94d89c61edb7043d9dc1b3e1ce26d28166b8b6282f4d8bdddba238f6ca3cf12"
  },
  "kernelspec": {
   "display_name": "Python 3.8.12 64-bit ('PythonData': conda)",
   "language": "python",
   "name": "python3"
  },
  "language_info": {
   "codemirror_mode": {
    "name": "ipython",
    "version": 3
   },
   "file_extension": ".py",
   "mimetype": "text/x-python",
   "name": "python",
   "nbconvert_exporter": "python",
   "pygments_lexer": "ipython3",
   "version": "3.8.12"
  },
  "orig_nbformat": 4
 },
 "nbformat": 4,
 "nbformat_minor": 2
}
