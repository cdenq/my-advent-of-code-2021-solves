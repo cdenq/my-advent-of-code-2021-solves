{
 "cells": [
  {
   "cell_type": "markdown",
   "metadata": {},
   "source": [
    "# Part 1"
   ]
  },
  {
   "cell_type": "markdown",
   "metadata": {},
   "source": [
    "## Problem Statement"
   ]
  },
  {
   "cell_type": "code",
   "execution_count": null,
   "metadata": {},
   "outputs": [],
   "source": [
    "'''\n",
    "--- Day 17: Trick Shot ---\n",
    "You finally decode the Elves' message. HI, the message says. You continue searching for the sleigh keys.\n",
    "\n",
    "Ahead of you is what appears to be a large ocean trench. Could the keys have fallen into it? You'd better send a probe to investigate.\n",
    "\n",
    "The probe launcher on your submarine can fire the probe with any integer velocity in the x (forward) and y (upward, or downward if negative)\n",
    "directions. For example, an initial x,y velocity like 0,10 would fire the probe straight up, while an initial velocity like 10,-1 would fire\n",
    "the probe forward at a slight downward angle.\n",
    "\n",
    "The probe's x,y position starts at 0,0. Then, it will follow some trajectory by moving in steps. On each step, these changes occur in the following\n",
    "order:\n",
    "\n",
    "The probe's x position increases by its x velocity.\n",
    "The probe's y position increases by its y velocity.\n",
    "Due to drag, the probe's x velocity changes by 1 toward the value 0; that is, it decreases by 1 if it is greater than 0, increases by 1 if it is\n",
    "less than 0, or does not change if it is already 0.\n",
    "Due to gravity, the probe's y velocity decreases by 1.\n",
    "For the probe to successfully make it into the trench, the probe must be on some trajectory that causes it to be within a target area after any\n",
    "step. The submarine computer has already calculated this target area (your puzzle input). For example:\n",
    "\n",
    "target area: x=20..30, y=-10..-5\n",
    "This target area means that you need to find initial x,y velocity values such that after any step, the probe's x position is at least 20 and at\n",
    "most 30, and the probe's y position is at least -10 and at most -5.\n",
    "\n",
    "Given this target area, one initial velocity that causes the probe to be within the target area after any step is 7,2:\n",
    "\n",
    ".............#....#............\n",
    ".......#..............#........\n",
    "...............................\n",
    "S........................#.....\n",
    "...............................\n",
    "...............................\n",
    "...........................#...\n",
    "...............................\n",
    "....................TTTTTTTTTTT\n",
    "....................TTTTTTTTTTT\n",
    "....................TTTTTTTT#TT\n",
    "....................TTTTTTTTTTT\n",
    "....................TTTTTTTTTTT\n",
    "....................TTTTTTTTTTT\n",
    "In this diagram, S is the probe's initial position, 0,0. The x coordinate increases to the right, and the y coordinate increases upward. In the\n",
    "bottom right, positions that are within the target area are shown as T. After each step (until the target area is reached), the position of the\n",
    "probe is marked with #. (The bottom-right # is both a position the probe reaches and a position in the target area.)\n",
    "\n",
    "Another initial velocity that causes the probe to be within the target area after any step is 6,3:\n",
    "\n",
    "...............#..#............\n",
    "...........#........#..........\n",
    "...............................\n",
    "......#..............#.........\n",
    "...............................\n",
    "...............................\n",
    "S....................#.........\n",
    "...............................\n",
    "...............................\n",
    "...............................\n",
    ".....................#.........\n",
    "....................TTTTTTTTTTT\n",
    "....................TTTTTTTTTTT\n",
    "....................TTTTTTTTTTT\n",
    "....................TTTTTTTTTTT\n",
    "....................T#TTTTTTTTT\n",
    "....................TTTTTTTTTTT\n",
    "Another one is 9,0:\n",
    "\n",
    "S........#.....................\n",
    ".................#.............\n",
    "...............................\n",
    "........................#......\n",
    "...............................\n",
    "....................TTTTTTTTTTT\n",
    "....................TTTTTTTTTT#\n",
    "....................TTTTTTTTTTT\n",
    "....................TTTTTTTTTTT\n",
    "....................TTTTTTTTTTT\n",
    "....................TTTTTTTTTTT\n",
    "One initial velocity that doesn't cause the probe to be within the target area after any step is 17,-4:\n",
    "\n",
    "S..............................................................\n",
    "...............................................................\n",
    "...............................................................\n",
    "...............................................................\n",
    ".................#.............................................\n",
    "....................TTTTTTTTTTT................................\n",
    "....................TTTTTTTTTTT................................\n",
    "....................TTTTTTTTTTT................................\n",
    "....................TTTTTTTTTTT................................\n",
    "....................TTTTTTTTTTT..#.............................\n",
    "....................TTTTTTTTTTT................................\n",
    "...............................................................\n",
    "...............................................................\n",
    "...............................................................\n",
    "...............................................................\n",
    "................................................#..............\n",
    "...............................................................\n",
    "...............................................................\n",
    "...............................................................\n",
    "...............................................................\n",
    "...............................................................\n",
    "...............................................................\n",
    "..............................................................#\n",
    "The probe appears to pass through the target area, but is never within it after any step. Instead, it continues down and to the right - only\n",
    "the first few steps are shown.\n",
    "\n",
    "If you're going to fire a highly scientific probe out of a super cool probe launcher, you might as well do it with style. How high can you make\n",
    "the probe go while still reaching the target area?\n",
    "\n",
    "In the above example, using an initial velocity of 6,9 is the best you can do, causing the probe to reach a maximum y position of 45. (Any higher\n",
    "initial y velocity causes the probe to overshoot the target area entirely.)\n",
    "\n",
    "Find the initial velocity that causes the probe to reach the highest y position and still eventually be within the target area after any step.\n",
    "What is the highest y position it reaches on this trajectory?\n",
    "\n",
    "To begin, get your puzzle input.\n",
    "'''"
   ]
  },
  {
   "cell_type": "markdown",
   "metadata": {},
   "source": [
    "### Data Setup"
   ]
  },
  {
   "cell_type": "code",
   "execution_count": null,
   "metadata": {},
   "outputs": [],
   "source": [
    "#importing data from puzzle input\n",
    "with open('puzzle_input.txt', 'r') as input_data:\n",
    "    input_list = [int(line.strip()) for line in input_data]"
   ]
  },
  {
   "cell_type": "code",
   "execution_count": null,
   "metadata": {},
   "outputs": [],
   "source": [
    "#adding this puzzle name to var for .csv export\n",
    "puzzle_name = 'Day 17: Trick Shot'"
   ]
  },
  {
   "cell_type": "markdown",
   "metadata": {},
   "source": [
    "## Strategy and Solution"
   ]
  },
  {
   "cell_type": "markdown",
   "metadata": {},
   "source": [
    "### Brute Force"
   ]
  },
  {
   "cell_type": "code",
   "execution_count": null,
   "metadata": {},
   "outputs": [],
   "source": [
    "'''\n",
    "\n",
    "'''"
   ]
  },
  {
   "cell_type": "code",
   "execution_count": null,
   "metadata": {},
   "outputs": [],
   "source": [
    "def brute_solution_p1():\n",
    "    return"
   ]
  },
  {
   "cell_type": "code",
   "execution_count": null,
   "metadata": {},
   "outputs": [],
   "source": [
    "p1_answer = brute_solution_p1(input_list)\n",
    "print(p1_answer)"
   ]
  },
  {
   "cell_type": "markdown",
   "metadata": {},
   "source": [
    "### Faster Method"
   ]
  },
  {
   "cell_type": "code",
   "execution_count": null,
   "metadata": {},
   "outputs": [],
   "source": [
    "'''\n",
    "\n",
    "'''"
   ]
  },
  {
   "cell_type": "code",
   "execution_count": null,
   "metadata": {},
   "outputs": [],
   "source": [
    "def solution_p1():\n",
    "    return"
   ]
  },
  {
   "cell_type": "code",
   "execution_count": null,
   "metadata": {},
   "outputs": [],
   "source": [
    "p1_answer = solution_p1(input_list)\n",
    "print(p1_answer)"
   ]
  },
  {
   "cell_type": "markdown",
   "metadata": {},
   "source": [
    "# Part 2"
   ]
  },
  {
   "cell_type": "markdown",
   "metadata": {},
   "source": [
    "## Problem Statement"
   ]
  },
  {
   "cell_type": "code",
   "execution_count": null,
   "metadata": {},
   "outputs": [],
   "source": [
    "'''\n",
    "--- Part Two ---\n",
    "Maybe a fancy trick shot isn't the best idea; after all, you only have one probe, so you had better not miss.\n",
    "\n",
    "To get the best idea of what your options are for launching the probe, you need to find every initial velocity that causes\n",
    "the probe to eventually be within the target area after any step.\n",
    "\n",
    "In the above example, there are 112 different initial velocity values that meet these criteria:\n",
    "\n",
    "23,-10  25,-9   27,-5   29,-6   22,-6   21,-7   9,0     27,-7   24,-5\n",
    "25,-7   26,-6   25,-5   6,8     11,-2   20,-5   29,-10  6,3     28,-7\n",
    "8,0     30,-6   29,-8   20,-10  6,7     6,4     6,1     14,-4   21,-6\n",
    "26,-10  7,-1    7,7     8,-1    21,-9   6,2     20,-7   30,-10  14,-3\n",
    "20,-8   13,-2   7,3     28,-8   29,-9   15,-3   22,-5   26,-8   25,-8\n",
    "25,-6   15,-4   9,-2    15,-2   12,-2   28,-9   12,-3   24,-6   23,-7\n",
    "25,-10  7,8     11,-3   26,-7   7,1     23,-9   6,0     22,-10  27,-6\n",
    "8,1     22,-8   13,-4   7,6     28,-6   11,-4   12,-4   26,-9   7,4\n",
    "24,-10  23,-8   30,-8   7,0     9,-1    10,-1   26,-5   22,-9   6,5\n",
    "7,5     23,-6   28,-10  10,-2   11,-1   20,-9   14,-2   29,-7   13,-3\n",
    "23,-5   24,-8   27,-9   30,-7   28,-5   21,-10  7,9     6,6     21,-5\n",
    "27,-10  7,2     30,-9   21,-8   22,-7   24,-9   20,-6   6,9     29,-5\n",
    "8,-2    27,-8   30,-5   24,-7\n",
    "How many distinct initial velocity values cause the probe to be within the target area after any step?\n",
    "'''"
   ]
  },
  {
   "cell_type": "markdown",
   "metadata": {},
   "source": [
    "## Strategy and Solution"
   ]
  },
  {
   "cell_type": "markdown",
   "metadata": {},
   "source": [
    "### Brute Force"
   ]
  },
  {
   "cell_type": "code",
   "execution_count": null,
   "metadata": {},
   "outputs": [],
   "source": [
    "'''\n",
    "\n",
    "'''"
   ]
  },
  {
   "cell_type": "code",
   "execution_count": null,
   "metadata": {},
   "outputs": [],
   "source": [
    "def brute_solution_p2():\n",
    "    return"
   ]
  },
  {
   "cell_type": "code",
   "execution_count": null,
   "metadata": {},
   "outputs": [],
   "source": [
    "p2_answer = brute_solution_p2(input_list)\n",
    "print(p2_answer)"
   ]
  },
  {
   "cell_type": "markdown",
   "metadata": {},
   "source": [
    "### Faster Method"
   ]
  },
  {
   "cell_type": "code",
   "execution_count": null,
   "metadata": {},
   "outputs": [],
   "source": [
    "'''\n",
    "\n",
    "'''"
   ]
  },
  {
   "cell_type": "code",
   "execution_count": null,
   "metadata": {},
   "outputs": [],
   "source": [
    "def solution_p2():\n",
    "    return"
   ]
  },
  {
   "cell_type": "code",
   "execution_count": null,
   "metadata": {},
   "outputs": [],
   "source": [
    "p2_answer = solution_p2(input_list)\n",
    "print(p2_answer)"
   ]
  },
  {
   "cell_type": "markdown",
   "metadata": {},
   "source": [
    "# Export"
   ]
  },
  {
   "cell_type": "code",
   "execution_count": null,
   "metadata": {},
   "outputs": [],
   "source": [
    "# 9180\n",
    "# 3767"
   ]
  },
  {
   "cell_type": "code",
   "execution_count": null,
   "metadata": {},
   "outputs": [],
   "source": [
    "import csv\n",
    "input_row = [puzzle_name, p1_answer, p2_answer]\n",
    "with open('../../submission_answers.csv', 'a', newline='') as new_row:  \n",
    "    writer_object = csv.writer(new_row)\n",
    "    writer_object.writerow(input_row)"
   ]
  }
 ],
 "metadata": {
  "interpreter": {
   "hash": "e94d89c61edb7043d9dc1b3e1ce26d28166b8b6282f4d8bdddba238f6ca3cf12"
  },
  "kernelspec": {
   "display_name": "Python 3.8.12 64-bit ('PythonData': conda)",
   "language": "python",
   "name": "python3"
  },
  "language_info": {
   "codemirror_mode": {
    "name": "ipython",
    "version": 3
   },
   "file_extension": ".py",
   "mimetype": "text/x-python",
   "name": "python",
   "nbconvert_exporter": "python",
   "pygments_lexer": "ipython3",
   "version": "3.8.12"
  },
  "orig_nbformat": 4
 },
 "nbformat": 4,
 "nbformat_minor": 2
}
