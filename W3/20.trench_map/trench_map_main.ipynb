{
 "cells": [
  {
   "cell_type": "markdown",
   "metadata": {},
   "source": [
    "# Part 1"
   ]
  },
  {
   "cell_type": "markdown",
   "metadata": {},
   "source": [
    "## Problem Statement"
   ]
  },
  {
   "cell_type": "code",
   "execution_count": null,
   "metadata": {},
   "outputs": [],
   "source": [
    "'''\n",
    "--- Day 20: Trench Map ---\n",
    "With the scanners fully deployed, you turn their attention to mapping the floor of the ocean trench.\n",
    "\n",
    "When you get back the image from the scanners, it seems to just be random noise. Perhaps you can combine an image enhancement\n",
    "algorithm and the input image (your puzzle input) to clean it up a little.\n",
    "\n",
    "For example:\n",
    "\n",
    "..#.#..#####.#.#.#.###.##.....###.##.#..###.####..#####..#....#..#..##..##\n",
    "#..######.###...####..#..#####..##..#.#####...##.#.#..#.##..#.#......#.###\n",
    ".######.###.####...#.##.##..#..#..#####.....#.#....###..#.##......#.....#.\n",
    ".#..#..##..#...##.######.####.####.#.#...#.......#..#.#.#...####.##.#.....\n",
    ".#..#...##.#.##..#...##.#.##..###.#......#.#.......#.#.#.####.###.##...#..\n",
    "...####.#..#..#.##.#....##..#.####....##...##..#...#......#.#.......#.....\n",
    "..##..####..#...#.#.#...##..#.#..###..#####........#..####......#..#\n",
    "\n",
    "#..#.\n",
    "#....\n",
    "##..#\n",
    "..#..\n",
    "..###\n",
    "The first section is the image enhancement algorithm. It is normally given on a single line, but it has been wrapped to multiple\n",
    "lines in this example for legibility. The second section is the input image, a two-dimensional grid of light pixels (#) and dark pixels (.).\n",
    "\n",
    "The image enhancement algorithm describes how to enhance an image by simultaneously converting all pixels in the input image into\n",
    "an output image. Each pixel of the output image is determined by looking at a 3x3 square of pixels centered on the corresponding\n",
    "input image pixel. So, to determine the value of the pixel at (5,10) in the output image, nine pixels from the input image need to\n",
    "be considered: (4,9), (4,10), (4,11), (5,9), (5,10), (5,11), (6,9), (6,10), and (6,11). These nine input pixels are combined into a\n",
    "single binary number that is used as an index in the image enhancement algorithm string.\n",
    "\n",
    "For example, to determine the output pixel that corresponds to the very middle pixel of the input image, the nine pixels marked by\n",
    "[...] would need to be considered:\n",
    "\n",
    "# . . # .\n",
    "#[. . .].\n",
    "#[# . .]#\n",
    ".[. # .].\n",
    ". . # # #\n",
    "Starting from the top-left and reading across each row, these pixels are ..., then #.., then .#.; combining these forms ...#...#.. By\n",
    "turning dark pixels (.) into 0 and light pixels (#) into 1, the binary number 000100010 can be formed, which is 34 in decimal.\n",
    "\n",
    "The image enhancement algorithm string is exactly 512 characters long, enough to match every possible 9-bit binary number. The first\n",
    "few characters of the string (numbered starting from zero) are as follows:\n",
    "\n",
    "0         10        20        30  34    40        50        60        70\n",
    "|         |         |         |   |     |         |         |         |\n",
    "..#.#..#####.#.#.#.###.##.....###.##.#..###.####..#####..#....#..#..##..##\n",
    "In the middle of this first group of characters, the character at index 34 can be found: #. So, the output pixel in the center of the\n",
    "output image should be #, a light pixel.\n",
    "\n",
    "This process can then be repeated to calculate every pixel of the output image.\n",
    "\n",
    "Through advances in imaging technology, the images being operated on here are infinite in size. Every pixel of the infinite output\n",
    "image needs to be calculated exactly based on the relevant pixels of the input image. The small input image you have is only a small\n",
    "region of the actual infinite input image; the rest of the input image consists of dark pixels (.). For the purposes of the example,\n",
    "to save on space, only a portion of the infinite-sized input and output images will be shown.\n",
    "\n",
    "The starting input image, therefore, looks something like this, with more dark pixels (.) extending forever in every direction not shown here:\n",
    "\n",
    "...............\n",
    "...............\n",
    "...............\n",
    "...............\n",
    "...............\n",
    ".....#..#......\n",
    ".....#.........\n",
    ".....##..#.....\n",
    ".......#.......\n",
    ".......###.....\n",
    "...............\n",
    "...............\n",
    "...............\n",
    "...............\n",
    "...............\n",
    "By applying the image enhancement algorithm to every pixel simultaneously, the following output image can be obtained:\n",
    "\n",
    "...............\n",
    "...............\n",
    "...............\n",
    "...............\n",
    ".....##.##.....\n",
    "....#..#.#.....\n",
    "....##.#..#....\n",
    "....####..#....\n",
    ".....#..##.....\n",
    "......##..#....\n",
    ".......#.#.....\n",
    "...............\n",
    "...............\n",
    "...............\n",
    "...............\n",
    "Through further advances in imaging technology, the above output image can also be used as an input image! This allows it to be enhanced a second time:\n",
    "\n",
    "...............\n",
    "...............\n",
    "...............\n",
    "..........#....\n",
    "....#..#.#.....\n",
    "...#.#...###...\n",
    "...#...##.#....\n",
    "...#.....#.#...\n",
    "....#.#####....\n",
    ".....#.#####...\n",
    "......##.##....\n",
    ".......###.....\n",
    "...............\n",
    "...............\n",
    "...............\n",
    "Truly incredible - now the small details are really starting to come through. After enhancing the original input image twice, 35 pixels are lit.\n",
    "\n",
    "Start with the original input image and apply the image enhancement algorithm twice, being careful to account for the infinite size of the\n",
    "images. How many pixels are lit in the resulting image?\n",
    "\n",
    "To begin, get your puzzle input.\n",
    "'''"
   ]
  },
  {
   "cell_type": "markdown",
   "metadata": {},
   "source": [
    "### Data Setup"
   ]
  },
  {
   "cell_type": "code",
   "execution_count": null,
   "metadata": {},
   "outputs": [],
   "source": [
    "#importing data from puzzle input\n",
    "with open('puzzle_input.txt', 'r') as input_data:\n",
    "    input_list = [int(line.strip()) for line in input_data]"
   ]
  },
  {
   "cell_type": "code",
   "execution_count": null,
   "metadata": {},
   "outputs": [],
   "source": [
    "#adding this puzzle name to var for .csv export\n",
    "puzzle_name = 'Day 20: Trench Map'"
   ]
  },
  {
   "cell_type": "markdown",
   "metadata": {},
   "source": [
    "## Strategy and Solution"
   ]
  },
  {
   "cell_type": "markdown",
   "metadata": {},
   "source": [
    "### Brute Force"
   ]
  },
  {
   "cell_type": "code",
   "execution_count": null,
   "metadata": {},
   "outputs": [],
   "source": [
    "'''\n",
    "\n",
    "'''"
   ]
  },
  {
   "cell_type": "code",
   "execution_count": null,
   "metadata": {},
   "outputs": [],
   "source": [
    "def brute_solution_p1():\n",
    "    return"
   ]
  },
  {
   "cell_type": "code",
   "execution_count": null,
   "metadata": {},
   "outputs": [],
   "source": [
    "p1_answer = brute_solution_p1(input_list)\n",
    "print(p1_answer)"
   ]
  },
  {
   "cell_type": "markdown",
   "metadata": {},
   "source": [
    "### Faster Method"
   ]
  },
  {
   "cell_type": "code",
   "execution_count": null,
   "metadata": {},
   "outputs": [],
   "source": [
    "'''\n",
    "\n",
    "'''"
   ]
  },
  {
   "cell_type": "code",
   "execution_count": null,
   "metadata": {},
   "outputs": [],
   "source": [
    "def solution_p1():\n",
    "    return"
   ]
  },
  {
   "cell_type": "code",
   "execution_count": null,
   "metadata": {},
   "outputs": [],
   "source": [
    "p1_answer = solution_p1(input_list)\n",
    "print(p1_answer)"
   ]
  },
  {
   "cell_type": "markdown",
   "metadata": {},
   "source": [
    "# Part 2"
   ]
  },
  {
   "cell_type": "markdown",
   "metadata": {},
   "source": [
    "## Problem Statement"
   ]
  },
  {
   "cell_type": "code",
   "execution_count": null,
   "metadata": {},
   "outputs": [],
   "source": [
    "'''\n",
    "--- Part Two ---\n",
    "You still can't quite make out the details in the image. Maybe you just didn't enhance it enough.\n",
    "\n",
    "If you enhance the starting input image in the above example a total of 50 times, 3351 pixels are lit in the final output image.\n",
    "\n",
    "Start again with the original input image and apply the image enhancement algorithm 50 times. How many pixels are lit in the resulting image?\n",
    "'''"
   ]
  },
  {
   "cell_type": "markdown",
   "metadata": {},
   "source": [
    "## Strategy and Solution"
   ]
  },
  {
   "cell_type": "markdown",
   "metadata": {},
   "source": [
    "### Brute Force"
   ]
  },
  {
   "cell_type": "code",
   "execution_count": null,
   "metadata": {},
   "outputs": [],
   "source": [
    "'''\n",
    "\n",
    "'''"
   ]
  },
  {
   "cell_type": "code",
   "execution_count": null,
   "metadata": {},
   "outputs": [],
   "source": [
    "def brute_solution_p2():\n",
    "    return"
   ]
  },
  {
   "cell_type": "code",
   "execution_count": null,
   "metadata": {},
   "outputs": [],
   "source": [
    "p2_answer = brute_solution_p2(input_list)\n",
    "print(p2_answer)"
   ]
  },
  {
   "cell_type": "markdown",
   "metadata": {},
   "source": [
    "### Faster Method"
   ]
  },
  {
   "cell_type": "code",
   "execution_count": null,
   "metadata": {},
   "outputs": [],
   "source": [
    "'''\n",
    "\n",
    "'''"
   ]
  },
  {
   "cell_type": "code",
   "execution_count": null,
   "metadata": {},
   "outputs": [],
   "source": [
    "def solution_p2():\n",
    "    return"
   ]
  },
  {
   "cell_type": "code",
   "execution_count": null,
   "metadata": {},
   "outputs": [],
   "source": [
    "p2_answer = solution_p2(input_list)\n",
    "print(p2_answer)"
   ]
  },
  {
   "cell_type": "markdown",
   "metadata": {},
   "source": [
    "# Export"
   ]
  },
  {
   "cell_type": "code",
   "execution_count": null,
   "metadata": {},
   "outputs": [],
   "source": [
    "#5489\n",
    "#19066"
   ]
  },
  {
   "cell_type": "code",
   "execution_count": null,
   "metadata": {},
   "outputs": [],
   "source": [
    "import csv\n",
    "input_row = [puzzle_name, p1_answer, p2_answer]\n",
    "with open('../../submission_answers.csv', 'a', newline='') as new_row:  \n",
    "    writer_object = csv.writer(new_row)\n",
    "    writer_object.writerow(input_row)"
   ]
  }
 ],
 "metadata": {
  "interpreter": {
   "hash": "e94d89c61edb7043d9dc1b3e1ce26d28166b8b6282f4d8bdddba238f6ca3cf12"
  },
  "kernelspec": {
   "display_name": "Python 3.8.12 64-bit ('PythonData': conda)",
   "language": "python",
   "name": "python3"
  },
  "language_info": {
   "codemirror_mode": {
    "name": "ipython",
    "version": 3
   },
   "file_extension": ".py",
   "mimetype": "text/x-python",
   "name": "python",
   "nbconvert_exporter": "python",
   "pygments_lexer": "ipython3",
   "version": "3.8.12"
  },
  "orig_nbformat": 4
 },
 "nbformat": 4,
 "nbformat_minor": 2
}
