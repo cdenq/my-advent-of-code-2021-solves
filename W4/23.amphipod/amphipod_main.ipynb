{
 "cells": [
  {
   "cell_type": "markdown",
   "metadata": {},
   "source": [
    "# Part 1"
   ]
  },
  {
   "cell_type": "markdown",
   "metadata": {},
   "source": [
    "## Problem Statement"
   ]
  },
  {
   "cell_type": "code",
   "execution_count": null,
   "metadata": {},
   "outputs": [],
   "source": [
    "'''\n",
    "--- Day 23: Amphipod ---\n",
    "A group of amphipods notice your fancy submarine and flag you down. \"With such an impressive shell,\" one amphipod says, \"surely you can\n",
    "help us with a question that has stumped our best scientists.\"\n",
    "\n",
    "They go on to explain that a group of timid, stubborn amphipods live in a nearby burrow. Four types of amphipods live there: Amber (A),\n",
    "Bronze (B), Copper (C), and Desert (D). They live in a burrow that consists of a hallway and four side rooms. The side rooms are initially\n",
    "full of amphipods, and the hallway is initially empty.\n",
    "\n",
    "They give you a diagram of the situation (your puzzle input), including locations of each amphipod (A, B, C, or D, each of which is occupying\n",
    "an otherwise open space), walls (#), and open space (.).\n",
    "\n",
    "For example:\n",
    "\n",
    "#############\n",
    "#...........#\n",
    "###B#C#B#D###\n",
    "  #A#D#C#A#\n",
    "  #########\n",
    "The amphipods would like a method to organize every amphipod into side rooms so that each side room contains one type of amphipod and the\n",
    "types are sorted A-D going left to right, like this:\n",
    "\n",
    "#############\n",
    "#...........#\n",
    "###A#B#C#D###\n",
    "  #A#B#C#D#\n",
    "  #########\n",
    "Amphipods can move up, down, left, or right so long as they are moving into an unoccupied open space. Each type of amphipod requires a different\n",
    "amount of energy to move one step: Amber amphipods require 1 energy per step, Bronze amphipods require 10 energy, Copper amphipods require 100,\n",
    "and Desert ones require 1000. The amphipods would like you to find a way to organize the amphipods that requires the least total energy.\n",
    "\n",
    "However, because they are timid and stubborn, the amphipods have some extra rules:\n",
    "\n",
    "Amphipods will never stop on the space immediately outside any room. They can move into that space so long as they immediately continue moving.\n",
    "(Specifically, this refers to the four open spaces in the hallway that are directly above an amphipod starting position.)\n",
    "Amphipods will never move from the hallway into a room unless that room is their destination room and that room contains no amphipods which do\n",
    "not also have that room as their own destination. If an amphipod's starting room is not its destination room, it can stay in that room until it\n",
    "leaves the room. (For example, an Amber amphipod will not move from the hallway into the right three rooms, and will only move into the leftmost\n",
    "room if that room is empty or if it only contains other Amber amphipods.)\n",
    "Once an amphipod stops moving in the hallway, it will stay in that spot until it can move into a room. (That is, once any amphipod starts moving,\n",
    "any other amphipods currently in the hallway are locked in place and will not move again until they can move fully into a room.)\n",
    "In the above example, the amphipods can be organized using a minimum of 12521 energy. One way to do this is shown below.\n",
    "\n",
    "Starting configuration:\n",
    "\n",
    "#############\n",
    "#...........#\n",
    "###B#C#B#D###\n",
    "  #A#D#C#A#\n",
    "  #########\n",
    "One Bronze amphipod moves into the hallway, taking 4 steps and using 40 energy:\n",
    "\n",
    "#############\n",
    "#...B.......#\n",
    "###B#C#.#D###\n",
    "  #A#D#C#A#\n",
    "  #########\n",
    "The only Copper amphipod not in its side room moves there, taking 4 steps and using 400 energy:\n",
    "\n",
    "#############\n",
    "#...B.......#\n",
    "###B#.#C#D###\n",
    "  #A#D#C#A#\n",
    "  #########\n",
    "A Desert amphipod moves out of the way, taking 3 steps and using 3000 energy, and then the Bronze amphipod takes its place,\n",
    "taking 3 steps and using 30 energy:\n",
    "\n",
    "#############\n",
    "#.....D.....#\n",
    "###B#.#C#D###\n",
    "  #A#B#C#A#\n",
    "  #########\n",
    "The leftmost Bronze amphipod moves to its room using 40 energy:\n",
    "\n",
    "#############\n",
    "#.....D.....#\n",
    "###.#B#C#D###\n",
    "  #A#B#C#A#\n",
    "  #########\n",
    "Both amphipods in the rightmost room move into the hallway, using 2003 energy in total:\n",
    "\n",
    "#############\n",
    "#.....D.D.A.#\n",
    "###.#B#C#.###\n",
    "  #A#B#C#.#\n",
    "  #########\n",
    "Both Desert amphipods move into the rightmost room using 7000 energy:\n",
    "\n",
    "#############\n",
    "#.........A.#\n",
    "###.#B#C#D###\n",
    "  #A#B#C#D#\n",
    "  #########\n",
    "Finally, the last Amber amphipod moves into its room, using 8 energy:\n",
    "\n",
    "#############\n",
    "#...........#\n",
    "###A#B#C#D###\n",
    "  #A#B#C#D#\n",
    "  #########\n",
    "What is the least energy required to organize the amphipods?\n",
    "\n",
    "To begin, get your puzzle input.\n",
    "'''"
   ]
  },
  {
   "cell_type": "markdown",
   "metadata": {},
   "source": [
    "### Data Setup"
   ]
  },
  {
   "cell_type": "code",
   "execution_count": null,
   "metadata": {},
   "outputs": [],
   "source": [
    "#importing data from puzzle input\n",
    "with open('puzzle_input.txt', 'r') as input_data:\n",
    "    input_list = [int(line.strip()) for line in input_data]"
   ]
  },
  {
   "cell_type": "code",
   "execution_count": null,
   "metadata": {},
   "outputs": [],
   "source": [
    "#adding this puzzle name to var for .csv export\n",
    "puzzle_name = 'Day 23: Amphipod'"
   ]
  },
  {
   "cell_type": "markdown",
   "metadata": {},
   "source": [
    "## Strategy and Solution"
   ]
  },
  {
   "cell_type": "markdown",
   "metadata": {},
   "source": [
    "### Brute Force"
   ]
  },
  {
   "cell_type": "code",
   "execution_count": null,
   "metadata": {},
   "outputs": [],
   "source": [
    "'''\n",
    "\n",
    "'''"
   ]
  },
  {
   "cell_type": "code",
   "execution_count": null,
   "metadata": {},
   "outputs": [],
   "source": [
    "def brute_solution_p1():\n",
    "    return"
   ]
  },
  {
   "cell_type": "code",
   "execution_count": null,
   "metadata": {},
   "outputs": [],
   "source": [
    "p1_answer = brute_solution_p1(input_list)\n",
    "print(p1_answer)"
   ]
  },
  {
   "cell_type": "markdown",
   "metadata": {},
   "source": [
    "### Faster Method"
   ]
  },
  {
   "cell_type": "code",
   "execution_count": null,
   "metadata": {},
   "outputs": [],
   "source": [
    "'''\n",
    "\n",
    "'''"
   ]
  },
  {
   "cell_type": "code",
   "execution_count": null,
   "metadata": {},
   "outputs": [],
   "source": [
    "def solution_p1():\n",
    "    return"
   ]
  },
  {
   "cell_type": "code",
   "execution_count": null,
   "metadata": {},
   "outputs": [],
   "source": [
    "p1_answer = solution_p1(input_list)\n",
    "print(p1_answer)"
   ]
  },
  {
   "cell_type": "markdown",
   "metadata": {},
   "source": [
    "# Part 2"
   ]
  },
  {
   "cell_type": "markdown",
   "metadata": {},
   "source": [
    "## Problem Statement"
   ]
  },
  {
   "cell_type": "code",
   "execution_count": null,
   "metadata": {},
   "outputs": [],
   "source": [
    "'''\n",
    "--- Part Two ---\n",
    "As you prepare to give the amphipods your solution, you notice that the diagram they handed you was actually folded up. As you\n",
    "unfold it, you discover an extra part of the diagram.\n",
    "\n",
    "Between the first and second lines of text that contain amphipod starting positions, insert the following lines:\n",
    "\n",
    "  #D#C#B#A#\n",
    "  #D#B#A#C#\n",
    "So, the above example now becomes:\n",
    "\n",
    "#############\n",
    "#...........#\n",
    "###B#C#B#D###\n",
    "  #D#C#B#A#\n",
    "  #D#B#A#C#\n",
    "  #A#D#C#A#\n",
    "  #########\n",
    "The amphipods still want to be organized into rooms similar to before:\n",
    "\n",
    "#############\n",
    "#...........#\n",
    "###A#B#C#D###\n",
    "  #A#B#C#D#\n",
    "  #A#B#C#D#\n",
    "  #A#B#C#D#\n",
    "  #########\n",
    "In this updated example, the least energy required to organize these amphipods is 44169:\n",
    "\n",
    "#############\n",
    "#...........#\n",
    "###B#C#B#D###\n",
    "  #D#C#B#A#\n",
    "  #D#B#A#C#\n",
    "  #A#D#C#A#\n",
    "  #########\n",
    "\n",
    "#############\n",
    "#..........D#\n",
    "###B#C#B#.###\n",
    "  #D#C#B#A#\n",
    "  #D#B#A#C#\n",
    "  #A#D#C#A#\n",
    "  #########\n",
    "\n",
    "#############\n",
    "#A.........D#\n",
    "###B#C#B#.###\n",
    "  #D#C#B#.#\n",
    "  #D#B#A#C#\n",
    "  #A#D#C#A#\n",
    "  #########\n",
    "\n",
    "#############\n",
    "#A........BD#\n",
    "###B#C#.#.###\n",
    "  #D#C#B#.#\n",
    "  #D#B#A#C#\n",
    "  #A#D#C#A#\n",
    "  #########\n",
    "\n",
    "#############\n",
    "#A......B.BD#\n",
    "###B#C#.#.###\n",
    "  #D#C#.#.#\n",
    "  #D#B#A#C#\n",
    "  #A#D#C#A#\n",
    "  #########\n",
    "\n",
    "#############\n",
    "#AA.....B.BD#\n",
    "###B#C#.#.###\n",
    "  #D#C#.#.#\n",
    "  #D#B#.#C#\n",
    "  #A#D#C#A#\n",
    "  #########\n",
    "\n",
    "#############\n",
    "#AA.....B.BD#\n",
    "###B#.#.#.###\n",
    "  #D#C#.#.#\n",
    "  #D#B#C#C#\n",
    "  #A#D#C#A#\n",
    "  #########\n",
    "\n",
    "#############\n",
    "#AA.....B.BD#\n",
    "###B#.#.#.###\n",
    "  #D#.#C#.#\n",
    "  #D#B#C#C#\n",
    "  #A#D#C#A#\n",
    "  #########\n",
    "\n",
    "#############\n",
    "#AA...B.B.BD#\n",
    "###B#.#.#.###\n",
    "  #D#.#C#.#\n",
    "  #D#.#C#C#\n",
    "  #A#D#C#A#\n",
    "  #########\n",
    "\n",
    "#############\n",
    "#AA.D.B.B.BD#\n",
    "###B#.#.#.###\n",
    "  #D#.#C#.#\n",
    "  #D#.#C#C#\n",
    "  #A#.#C#A#\n",
    "  #########\n",
    "\n",
    "#############\n",
    "#AA.D...B.BD#\n",
    "###B#.#.#.###\n",
    "  #D#.#C#.#\n",
    "  #D#.#C#C#\n",
    "  #A#B#C#A#\n",
    "  #########\n",
    "\n",
    "#############\n",
    "#AA.D.....BD#\n",
    "###B#.#.#.###\n",
    "  #D#.#C#.#\n",
    "  #D#B#C#C#\n",
    "  #A#B#C#A#\n",
    "  #########\n",
    "\n",
    "#############\n",
    "#AA.D......D#\n",
    "###B#.#.#.###\n",
    "  #D#B#C#.#\n",
    "  #D#B#C#C#\n",
    "  #A#B#C#A#\n",
    "  #########\n",
    "\n",
    "#############\n",
    "#AA.D......D#\n",
    "###B#.#C#.###\n",
    "  #D#B#C#.#\n",
    "  #D#B#C#.#\n",
    "  #A#B#C#A#\n",
    "  #########\n",
    "\n",
    "#############\n",
    "#AA.D.....AD#\n",
    "###B#.#C#.###\n",
    "  #D#B#C#.#\n",
    "  #D#B#C#.#\n",
    "  #A#B#C#.#\n",
    "  #########\n",
    "\n",
    "#############\n",
    "#AA.......AD#\n",
    "###B#.#C#.###\n",
    "  #D#B#C#.#\n",
    "  #D#B#C#.#\n",
    "  #A#B#C#D#\n",
    "  #########\n",
    "\n",
    "#############\n",
    "#AA.......AD#\n",
    "###.#B#C#.###\n",
    "  #D#B#C#.#\n",
    "  #D#B#C#.#\n",
    "  #A#B#C#D#\n",
    "  #########\n",
    "\n",
    "#############\n",
    "#AA.......AD#\n",
    "###.#B#C#.###\n",
    "  #.#B#C#.#\n",
    "  #D#B#C#D#\n",
    "  #A#B#C#D#\n",
    "  #########\n",
    "\n",
    "#############\n",
    "#AA.D.....AD#\n",
    "###.#B#C#.###\n",
    "  #.#B#C#.#\n",
    "  #.#B#C#D#\n",
    "  #A#B#C#D#\n",
    "  #########\n",
    "\n",
    "#############\n",
    "#A..D.....AD#\n",
    "###.#B#C#.###\n",
    "  #.#B#C#.#\n",
    "  #A#B#C#D#\n",
    "  #A#B#C#D#\n",
    "  #########\n",
    "\n",
    "#############\n",
    "#...D.....AD#\n",
    "###.#B#C#.###\n",
    "  #A#B#C#.#\n",
    "  #A#B#C#D#\n",
    "  #A#B#C#D#\n",
    "  #########\n",
    "\n",
    "#############\n",
    "#.........AD#\n",
    "###.#B#C#.###\n",
    "  #A#B#C#D#\n",
    "  #A#B#C#D#\n",
    "  #A#B#C#D#\n",
    "  #########\n",
    "\n",
    "#############\n",
    "#..........D#\n",
    "###A#B#C#.###\n",
    "  #A#B#C#D#\n",
    "  #A#B#C#D#\n",
    "  #A#B#C#D#\n",
    "  #########\n",
    "\n",
    "#############\n",
    "#...........#\n",
    "###A#B#C#D###\n",
    "  #A#B#C#D#\n",
    "  #A#B#C#D#\n",
    "  #A#B#C#D#\n",
    "  #########\n",
    "Using the initial configuration from the full diagram, what is the least energy required to organize the amphipods?\n",
    "'''"
   ]
  },
  {
   "cell_type": "markdown",
   "metadata": {},
   "source": [
    "## Strategy and Solution"
   ]
  },
  {
   "cell_type": "markdown",
   "metadata": {},
   "source": [
    "### Brute Force"
   ]
  },
  {
   "cell_type": "code",
   "execution_count": null,
   "metadata": {},
   "outputs": [],
   "source": [
    "'''\n",
    "\n",
    "'''"
   ]
  },
  {
   "cell_type": "code",
   "execution_count": null,
   "metadata": {},
   "outputs": [],
   "source": [
    "def brute_solution_p2():\n",
    "    return"
   ]
  },
  {
   "cell_type": "code",
   "execution_count": null,
   "metadata": {},
   "outputs": [],
   "source": [
    "p2_answer = brute_solution_p2(input_list)\n",
    "print(p2_answer)"
   ]
  },
  {
   "cell_type": "markdown",
   "metadata": {},
   "source": [
    "### Faster Method"
   ]
  },
  {
   "cell_type": "code",
   "execution_count": null,
   "metadata": {},
   "outputs": [],
   "source": [
    "'''\n",
    "\n",
    "'''"
   ]
  },
  {
   "cell_type": "code",
   "execution_count": null,
   "metadata": {},
   "outputs": [],
   "source": [
    "def solution_p2():\n",
    "    return"
   ]
  },
  {
   "cell_type": "code",
   "execution_count": null,
   "metadata": {},
   "outputs": [],
   "source": [
    "p2_answer = solution_p2(input_list)\n",
    "print(p2_answer)"
   ]
  },
  {
   "cell_type": "markdown",
   "metadata": {},
   "source": [
    "# Export"
   ]
  },
  {
   "cell_type": "code",
   "execution_count": null,
   "metadata": {},
   "outputs": [],
   "source": [
    "#18300\n",
    "#50190"
   ]
  },
  {
   "cell_type": "code",
   "execution_count": null,
   "metadata": {},
   "outputs": [],
   "source": [
    "import csv\n",
    "input_row = [puzzle_name, p1_answer, p2_answer]\n",
    "with open('../../submission_answers.csv', 'a', newline='') as new_row:  \n",
    "    writer_object = csv.writer(new_row)\n",
    "    writer_object.writerow(input_row)"
   ]
  }
 ],
 "metadata": {
  "interpreter": {
   "hash": "e94d89c61edb7043d9dc1b3e1ce26d28166b8b6282f4d8bdddba238f6ca3cf12"
  },
  "kernelspec": {
   "display_name": "Python 3.8.12 64-bit ('PythonData': conda)",
   "language": "python",
   "name": "python3"
  },
  "language_info": {
   "codemirror_mode": {
    "name": "ipython",
    "version": 3
   },
   "file_extension": ".py",
   "mimetype": "text/x-python",
   "name": "python",
   "nbconvert_exporter": "python",
   "pygments_lexer": "ipython3",
   "version": "3.8.12"
  },
  "orig_nbformat": 4
 },
 "nbformat": 4,
 "nbformat_minor": 2
}
