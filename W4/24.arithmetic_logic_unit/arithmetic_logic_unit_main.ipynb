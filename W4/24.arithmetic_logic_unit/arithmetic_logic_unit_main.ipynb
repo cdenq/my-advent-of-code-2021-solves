{
 "cells": [
  {
   "cell_type": "markdown",
   "metadata": {},
   "source": [
    "# Part 1"
   ]
  },
  {
   "cell_type": "markdown",
   "metadata": {},
   "source": [
    "## Problem Statement"
   ]
  },
  {
   "cell_type": "code",
   "execution_count": null,
   "metadata": {},
   "outputs": [],
   "source": [
    "'''\n",
    "--- Day 24: Arithmetic Logic Unit ---\n",
    "Magic smoke starts leaking from the submarine's arithmetic logic unit (ALU). Without the ability to perform basic arithmetic and\n",
    "logic functions, the submarine can't produce cool patterns with its Christmas lights!\n",
    "\n",
    "It also can't navigate. Or run the oxygen system.\n",
    "\n",
    "Don't worry, though - you probably have enough oxygen left to give you enough time to build a new ALU.\n",
    "\n",
    "The ALU is a four-dimensional processing unit: it has integer variables w, x, y, and z. These variables all start with the value 0.\n",
    "The ALU also supports six instructions:\n",
    "\n",
    "inp a - Read an input value and write it to variable a.\n",
    "add a b - Add the value of a to the value of b, then store the result in variable a.\n",
    "mul a b - Multiply the value of a by the value of b, then store the result in variable a.\n",
    "div a b - Divide the value of a by the value of b, truncate the result to an integer, then store the result in variable a. (Here,\n",
    "\"truncate\" means to round the value toward zero.)\n",
    "mod a b - Divide the value of a by the value of b, then store the remainder in variable a. (This is also called the modulo operation.)\n",
    "eql a b - If the value of a and b are equal, then store the value 1 in variable a. Otherwise, store the value 0 in variable a.\n",
    "In all of these instructions, a and b are placeholders; a will always be the variable where the result of the operation is stored (one\n",
    "of w, x, y, or z), while b can be either a variable or a number. Numbers can be positive or negative, but will always be integers.\n",
    "\n",
    "The ALU has no jump instructions; in an ALU program, every instruction is run exactly once in order from top to bottom. The program\n",
    "halts after the last instruction has finished executing.\n",
    "\n",
    "(Program authors should be especially cautious; attempting to execute div with b=0 or attempting to execute mod with a<0 or b<=0 will\n",
    "cause the program to crash and might even damage the ALU. These operations are never intended in any serious ALU program.)\n",
    "\n",
    "For example, here is an ALU program which takes an input number, negates it, and stores it in x:\n",
    "\n",
    "inp x\n",
    "mul x -1\n",
    "Here is an ALU program which takes two input numbers, then sets z to 1 if the second input number is three times larger than the first\n",
    "input number, or sets z to 0 otherwise:\n",
    "\n",
    "inp z\n",
    "inp x\n",
    "mul z 3\n",
    "eql z x\n",
    "Here is an ALU program which takes a non-negative integer as input, converts it into binary, and stores the lowest (1's) bit in z, the\n",
    "second-lowest (2's) bit in y, the third-lowest (4's) bit in x, and the fourth-lowest (8's) bit in w:\n",
    "\n",
    "inp w\n",
    "add z w\n",
    "mod z 2\n",
    "div w 2\n",
    "add y w\n",
    "mod y 2\n",
    "div w 2\n",
    "add x w\n",
    "mod x 2\n",
    "div w 2\n",
    "mod w 2\n",
    "Once you have built a replacement ALU, you can install it in the submarine, which will immediately resume what it was doing when the ALU\n",
    "failed: validating the submarine's model number. To do this, the ALU will run the MOdel Number Automatic Detector program (MONAD, your puzzle input).\n",
    "\n",
    "Submarine model numbers are always fourteen-digit numbers consisting only of digits 1 through 9. The digit 0 cannot appear in a model\n",
    "number.\n",
    "\n",
    "When MONAD checks a hypothetical fourteen-digit model number, it uses fourteen separate inp instructions, each expecting a single digit\n",
    "of the model number in order of most to least significant. (So, to check the model number 13579246899999, you would give 1 to the first\n",
    "inp instruction, 3 to the second inp instruction, 5 to the third inp instruction, and so on.) This means that when operating MONAD, each\n",
    "input instruction should only ever be given an integer value of at least 1 and at most 9.\n",
    "\n",
    "Then, after MONAD has finished running all of its instructions, it will indicate that the model number was valid by leaving a 0 in variable\n",
    "z. However, if the model number was invalid, it will leave some other non-zero value in z.\n",
    "\n",
    "MONAD imposes additional, mysterious restrictions on model numbers, and legend says the last copy of the MONAD documentation was eaten by a\n",
    "tanuki. You'll need to figure out what MONAD does some other way.\n",
    "\n",
    "To enable as many submarine features as possible, find the largest valid fourteen-digit model number that contains no 0 digits. What is the\n",
    "largest model number accepted by MONAD?\n",
    "'''"
   ]
  },
  {
   "cell_type": "markdown",
   "metadata": {},
   "source": [
    "### Data Setup"
   ]
  },
  {
   "cell_type": "code",
   "execution_count": null,
   "metadata": {},
   "outputs": [],
   "source": [
    "#importing data from puzzle input\n",
    "with open('puzzle_input.txt', 'r') as input_data:\n",
    "    input_list = [int(line.strip()) for line in input_data]"
   ]
  },
  {
   "cell_type": "code",
   "execution_count": null,
   "metadata": {},
   "outputs": [],
   "source": [
    "#adding this puzzle name to var for .csv export\n",
    "puzzle_name = 'Day 24: Arithmetic Logic Unit'"
   ]
  },
  {
   "cell_type": "markdown",
   "metadata": {},
   "source": [
    "## Strategy and Solution"
   ]
  },
  {
   "cell_type": "markdown",
   "metadata": {},
   "source": [
    "### Brute Force"
   ]
  },
  {
   "cell_type": "code",
   "execution_count": null,
   "metadata": {},
   "outputs": [],
   "source": [
    "'''\n",
    "\n",
    "'''"
   ]
  },
  {
   "cell_type": "code",
   "execution_count": null,
   "metadata": {},
   "outputs": [],
   "source": [
    "def brute_solution_p1():\n",
    "    return"
   ]
  },
  {
   "cell_type": "code",
   "execution_count": null,
   "metadata": {},
   "outputs": [],
   "source": [
    "p1_answer = brute_solution_p1(input_list)\n",
    "print(p1_answer)"
   ]
  },
  {
   "cell_type": "markdown",
   "metadata": {},
   "source": [
    "### Faster Method"
   ]
  },
  {
   "cell_type": "code",
   "execution_count": null,
   "metadata": {},
   "outputs": [],
   "source": [
    "'''\n",
    "\n",
    "'''"
   ]
  },
  {
   "cell_type": "code",
   "execution_count": null,
   "metadata": {},
   "outputs": [],
   "source": [
    "def solution_p1():\n",
    "    return"
   ]
  },
  {
   "cell_type": "code",
   "execution_count": null,
   "metadata": {},
   "outputs": [],
   "source": [
    "p1_answer = solution_p1(input_list)\n",
    "print(p1_answer)"
   ]
  },
  {
   "cell_type": "markdown",
   "metadata": {},
   "source": [
    "# Part 2"
   ]
  },
  {
   "cell_type": "markdown",
   "metadata": {},
   "source": [
    "## Problem Statement"
   ]
  },
  {
   "cell_type": "code",
   "execution_count": null,
   "metadata": {},
   "outputs": [],
   "source": [
    "'''\n",
    "--- Part Two ---\n",
    "As the submarine starts booting up things like the Retro Encabulator, you realize that maybe you don't need all these submarine features after all.\n",
    "\n",
    "What is the smallest model number accepted by MONAD?\n",
    "'''"
   ]
  },
  {
   "cell_type": "markdown",
   "metadata": {},
   "source": [
    "## Strategy and Solution"
   ]
  },
  {
   "cell_type": "markdown",
   "metadata": {},
   "source": [
    "### Brute Force"
   ]
  },
  {
   "cell_type": "code",
   "execution_count": null,
   "metadata": {},
   "outputs": [],
   "source": [
    "'''\n",
    "\n",
    "'''"
   ]
  },
  {
   "cell_type": "code",
   "execution_count": null,
   "metadata": {},
   "outputs": [],
   "source": [
    "def brute_solution_p2():\n",
    "    return"
   ]
  },
  {
   "cell_type": "code",
   "execution_count": null,
   "metadata": {},
   "outputs": [],
   "source": [
    "p2_answer = brute_solution_p2(input_list)\n",
    "print(p2_answer)"
   ]
  },
  {
   "cell_type": "markdown",
   "metadata": {},
   "source": [
    "### Faster Method"
   ]
  },
  {
   "cell_type": "code",
   "execution_count": null,
   "metadata": {},
   "outputs": [],
   "source": [
    "'''\n",
    "\n",
    "'''"
   ]
  },
  {
   "cell_type": "code",
   "execution_count": null,
   "metadata": {},
   "outputs": [],
   "source": [
    "def solution_p2():\n",
    "    return"
   ]
  },
  {
   "cell_type": "code",
   "execution_count": null,
   "metadata": {},
   "outputs": [],
   "source": [
    "p2_answer = solution_p2(input_list)\n",
    "print(p2_answer)"
   ]
  },
  {
   "cell_type": "markdown",
   "metadata": {},
   "source": [
    "# Export"
   ]
  },
  {
   "cell_type": "code",
   "execution_count": null,
   "metadata": {},
   "outputs": [],
   "source": [
    "#92969593497992\n",
    "#81514171161381"
   ]
  },
  {
   "cell_type": "code",
   "execution_count": null,
   "metadata": {},
   "outputs": [],
   "source": [
    "import csv\n",
    "input_row = [puzzle_name, p1_answer, p2_answer]\n",
    "with open('../../submission_answers.csv', 'a', newline='') as new_row:  \n",
    "    writer_object = csv.writer(new_row)\n",
    "    writer_object.writerow(input_row)"
   ]
  }
 ],
 "metadata": {
  "interpreter": {
   "hash": "e94d89c61edb7043d9dc1b3e1ce26d28166b8b6282f4d8bdddba238f6ca3cf12"
  },
  "kernelspec": {
   "display_name": "Python 3.8.12 64-bit ('PythonData': conda)",
   "language": "python",
   "name": "python3"
  },
  "language_info": {
   "codemirror_mode": {
    "name": "ipython",
    "version": 3
   },
   "file_extension": ".py",
   "mimetype": "text/x-python",
   "name": "python",
   "nbconvert_exporter": "python",
   "pygments_lexer": "ipython3",
   "version": "3.8.12"
  },
  "orig_nbformat": 4
 },
 "nbformat": 4,
 "nbformat_minor": 2
}
